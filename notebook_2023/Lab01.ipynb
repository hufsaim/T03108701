{
  "nbformat": 4,
  "nbformat_minor": 0,
  "metadata": {
    "colab": {
      "provenance": [],
      "authorship_tag": "ABX9TyPptfn9mo1JJlt1HYCNhKlc",
      "include_colab_link": true
    },
    "kernelspec": {
      "name": "python3",
      "display_name": "Python 3"
    },
    "language_info": {
      "name": "python"
    }
  },
  "cells": [
    {
      "cell_type": "markdown",
      "metadata": {
        "id": "view-in-github",
        "colab_type": "text"
      },
      "source": [
        "<a href=\"https://colab.research.google.com/github/hufsaim/T03108701/blob/main/notebook_2023/Lab01.ipynb\" target=\"_parent\"><img src=\"https://colab.research.google.com/assets/colab-badge.svg\" alt=\"Open In Colab\"/></a>"
      ]
    },
    {
      "cell_type": "code",
      "execution_count": 1,
      "metadata": {
        "id": "Dxredbdas4tN"
      },
      "outputs": [],
      "source": [
        "import numpy as np\n",
        "import matplotlib.pyplot as plt\n",
        "import pandas as pd"
      ]
    },
    {
      "cell_type": "code",
      "source": [
        "mbti = pd.read_csv('BMELA2023_MBTI.csv')\n",
        "mbti[:4]"
      ],
      "metadata": {
        "colab": {
          "base_uri": "https://localhost:8080/",
          "height": 175
        },
        "id": "qyodZ_C0vVUJ",
        "outputId": "aba3d4a5-7121-42b6-c4a7-93ff3954d540"
      },
      "execution_count": 2,
      "outputs": [
        {
          "output_type": "execute_result",
          "data": {
            "text/plain": [
              "    이름  IE  NS  FT  PJ\n",
              "0   김준  -2   1  -1   2\n",
              "1  박민욱  -1   1   0  -1\n",
              "2  정우진  -2   0  -2  -1\n",
              "3  장건희  -1   2   1   1"
            ],
            "text/html": [
              "\n",
              "  <div id=\"df-a89eebb6-a54b-42fd-8404-b68200a13581\">\n",
              "    <div class=\"colab-df-container\">\n",
              "      <div>\n",
              "<style scoped>\n",
              "    .dataframe tbody tr th:only-of-type {\n",
              "        vertical-align: middle;\n",
              "    }\n",
              "\n",
              "    .dataframe tbody tr th {\n",
              "        vertical-align: top;\n",
              "    }\n",
              "\n",
              "    .dataframe thead th {\n",
              "        text-align: right;\n",
              "    }\n",
              "</style>\n",
              "<table border=\"1\" class=\"dataframe\">\n",
              "  <thead>\n",
              "    <tr style=\"text-align: right;\">\n",
              "      <th></th>\n",
              "      <th>이름</th>\n",
              "      <th>IE</th>\n",
              "      <th>NS</th>\n",
              "      <th>FT</th>\n",
              "      <th>PJ</th>\n",
              "    </tr>\n",
              "  </thead>\n",
              "  <tbody>\n",
              "    <tr>\n",
              "      <th>0</th>\n",
              "      <td>김준</td>\n",
              "      <td>-2</td>\n",
              "      <td>1</td>\n",
              "      <td>-1</td>\n",
              "      <td>2</td>\n",
              "    </tr>\n",
              "    <tr>\n",
              "      <th>1</th>\n",
              "      <td>박민욱</td>\n",
              "      <td>-1</td>\n",
              "      <td>1</td>\n",
              "      <td>0</td>\n",
              "      <td>-1</td>\n",
              "    </tr>\n",
              "    <tr>\n",
              "      <th>2</th>\n",
              "      <td>정우진</td>\n",
              "      <td>-2</td>\n",
              "      <td>0</td>\n",
              "      <td>-2</td>\n",
              "      <td>-1</td>\n",
              "    </tr>\n",
              "    <tr>\n",
              "      <th>3</th>\n",
              "      <td>장건희</td>\n",
              "      <td>-1</td>\n",
              "      <td>2</td>\n",
              "      <td>1</td>\n",
              "      <td>1</td>\n",
              "    </tr>\n",
              "  </tbody>\n",
              "</table>\n",
              "</div>\n",
              "      <button class=\"colab-df-convert\" onclick=\"convertToInteractive('df-a89eebb6-a54b-42fd-8404-b68200a13581')\"\n",
              "              title=\"Convert this dataframe to an interactive table.\"\n",
              "              style=\"display:none;\">\n",
              "        \n",
              "  <svg xmlns=\"http://www.w3.org/2000/svg\" height=\"24px\"viewBox=\"0 0 24 24\"\n",
              "       width=\"24px\">\n",
              "    <path d=\"M0 0h24v24H0V0z\" fill=\"none\"/>\n",
              "    <path d=\"M18.56 5.44l.94 2.06.94-2.06 2.06-.94-2.06-.94-.94-2.06-.94 2.06-2.06.94zm-11 1L8.5 8.5l.94-2.06 2.06-.94-2.06-.94L8.5 2.5l-.94 2.06-2.06.94zm10 10l.94 2.06.94-2.06 2.06-.94-2.06-.94-.94-2.06-.94 2.06-2.06.94z\"/><path d=\"M17.41 7.96l-1.37-1.37c-.4-.4-.92-.59-1.43-.59-.52 0-1.04.2-1.43.59L10.3 9.45l-7.72 7.72c-.78.78-.78 2.05 0 2.83L4 21.41c.39.39.9.59 1.41.59.51 0 1.02-.2 1.41-.59l7.78-7.78 2.81-2.81c.8-.78.8-2.07 0-2.86zM5.41 20L4 18.59l7.72-7.72 1.47 1.35L5.41 20z\"/>\n",
              "  </svg>\n",
              "      </button>\n",
              "      \n",
              "  <style>\n",
              "    .colab-df-container {\n",
              "      display:flex;\n",
              "      flex-wrap:wrap;\n",
              "      gap: 12px;\n",
              "    }\n",
              "\n",
              "    .colab-df-convert {\n",
              "      background-color: #E8F0FE;\n",
              "      border: none;\n",
              "      border-radius: 50%;\n",
              "      cursor: pointer;\n",
              "      display: none;\n",
              "      fill: #1967D2;\n",
              "      height: 32px;\n",
              "      padding: 0 0 0 0;\n",
              "      width: 32px;\n",
              "    }\n",
              "\n",
              "    .colab-df-convert:hover {\n",
              "      background-color: #E2EBFA;\n",
              "      box-shadow: 0px 1px 2px rgba(60, 64, 67, 0.3), 0px 1px 3px 1px rgba(60, 64, 67, 0.15);\n",
              "      fill: #174EA6;\n",
              "    }\n",
              "\n",
              "    [theme=dark] .colab-df-convert {\n",
              "      background-color: #3B4455;\n",
              "      fill: #D2E3FC;\n",
              "    }\n",
              "\n",
              "    [theme=dark] .colab-df-convert:hover {\n",
              "      background-color: #434B5C;\n",
              "      box-shadow: 0px 1px 3px 1px rgba(0, 0, 0, 0.15);\n",
              "      filter: drop-shadow(0px 1px 2px rgba(0, 0, 0, 0.3));\n",
              "      fill: #FFFFFF;\n",
              "    }\n",
              "  </style>\n",
              "\n",
              "      <script>\n",
              "        const buttonEl =\n",
              "          document.querySelector('#df-a89eebb6-a54b-42fd-8404-b68200a13581 button.colab-df-convert');\n",
              "        buttonEl.style.display =\n",
              "          google.colab.kernel.accessAllowed ? 'block' : 'none';\n",
              "\n",
              "        async function convertToInteractive(key) {\n",
              "          const element = document.querySelector('#df-a89eebb6-a54b-42fd-8404-b68200a13581');\n",
              "          const dataTable =\n",
              "            await google.colab.kernel.invokeFunction('convertToInteractive',\n",
              "                                                     [key], {});\n",
              "          if (!dataTable) return;\n",
              "\n",
              "          const docLinkHtml = 'Like what you see? Visit the ' +\n",
              "            '<a target=\"_blank\" href=https://colab.research.google.com/notebooks/data_table.ipynb>data table notebook</a>'\n",
              "            + ' to learn more about interactive tables.';\n",
              "          element.innerHTML = '';\n",
              "          dataTable['output_type'] = 'display_data';\n",
              "          await google.colab.output.renderOutput(dataTable, element);\n",
              "          const docLink = document.createElement('div');\n",
              "          docLink.innerHTML = docLinkHtml;\n",
              "          element.appendChild(docLink);\n",
              "        }\n",
              "      </script>\n",
              "    </div>\n",
              "  </div>\n",
              "  "
            ]
          },
          "metadata": {},
          "execution_count": 2
        }
      ]
    },
    {
      "cell_type": "code",
      "source": [
        "A = mbti.iloc[:,1:].to_numpy()\n",
        "print(A.shape)"
      ],
      "metadata": {
        "colab": {
          "base_uri": "https://localhost:8080/"
        },
        "id": "qMk6VxNjw9iG",
        "outputId": "b4f23459-61f8-479e-af32-bb7f9dceda58"
      },
      "execution_count": 3,
      "outputs": [
        {
          "output_type": "stream",
          "name": "stdout",
          "text": [
            "(50, 4)\n"
          ]
        }
      ]
    },
    {
      "cell_type": "code",
      "source": [
        "col_names = mbti.columns\n",
        "print(col_names)\n",
        "col_names = col_names.to_numpy()[1:]\n",
        "col_names"
      ],
      "metadata": {
        "colab": {
          "base_uri": "https://localhost:8080/"
        },
        "id": "uWbgUwiCxhoe",
        "outputId": "e6813817-b75d-4d06-9dd0-4dfc093b0761"
      },
      "execution_count": 4,
      "outputs": [
        {
          "output_type": "stream",
          "name": "stdout",
          "text": [
            "Index(['이름', 'IE', 'NS', 'FT', 'PJ'], dtype='object')\n"
          ]
        },
        {
          "output_type": "execute_result",
          "data": {
            "text/plain": [
              "array(['IE', 'NS', 'FT', 'PJ'], dtype=object)"
            ]
          },
          "metadata": {},
          "execution_count": 4
        }
      ]
    },
    {
      "cell_type": "markdown",
      "source": [
        "- 데이터에 약간의 노이즈를 더하여 2차원 시각화"
      ],
      "metadata": {
        "id": "y8rSVoqEDolG"
      }
    },
    {
      "cell_type": "code",
      "source": [
        "ind1 = 0\n",
        "ind2 = 2\n",
        "\n",
        "N = np.random.randn(A.shape[0],A.shape[1])\n",
        "AN = A + 0.05*N\n",
        "for n in range(len(AN)):\n",
        "  plt.scatter(AN[n,ind1],AN[n,ind2],marker='.')\n",
        "\n",
        "plt.grid('on')\n",
        "plt.xlabel(col_names[ind1])\n",
        "plt.ylabel(col_names[ind2])\n",
        "plt.show()"
      ],
      "metadata": {
        "colab": {
          "base_uri": "https://localhost:8080/",
          "height": 279
        },
        "id": "IuciQS0Vy3Wf",
        "outputId": "7f471e36-1845-4ba5-adef-88588cb79715"
      },
      "execution_count": 5,
      "outputs": [
        {
          "output_type": "display_data",
          "data": {
            "text/plain": [
              "<Figure size 432x288 with 1 Axes>"
            ],
            "image/png": "[encoded data removed]"
          },
          "metadata": {
            "needs_background": "light"
          }
        }
      ]
    },
    {
      "cell_type": "markdown",
      "source": [
        "- 모든 row vector의 length를 1로 변환하기"
      ],
      "metadata": {
        "id": "hJdJI0iYDyRX"
      }
    },
    {
      "cell_type": "code",
      "source": [
        "ANu = np.zeros_like(AN)\n",
        "for n in range(len(AN)):\n",
        "  ANu[n] = AN[n]/np.sum(np.abs(AN[n])**2)**(0.5)"
      ],
      "metadata": {
        "id": "y3XO4oiyz9Ll"
      },
      "execution_count": 6,
      "outputs": []
    },
    {
      "cell_type": "code",
      "source": [
        "ind1 = 0\n",
        "ind2 = 2\n",
        "for n in range(len(ANu)):\n",
        "  plt.scatter(ANu[n,ind1],ANu[n,ind2],marker='.')\n",
        "plt.scatter(0,0,marker='+')\n",
        "plt.grid('on')\n",
        "plt.xlabel(col_names[ind1])\n",
        "plt.ylabel(col_names[ind2])\n",
        "plt.show()"
      ],
      "metadata": {
        "colab": {
          "base_uri": "https://localhost:8080/",
          "height": 279
        },
        "id": "c4djwqK92irz",
        "outputId": "618ada5b-1f24-4adc-b334-2d370242c152"
      },
      "execution_count": 7,
      "outputs": [
        {
          "output_type": "display_data",
          "data": {
            "text/plain": [
              "<Figure size 432x288 with 1 Axes>"
            ],
            "image/png": "[encoded data removed]"
          },
          "metadata": {
            "needs_background": "light"
          }
        }
      ]
    },
    {
      "cell_type": "markdown",
      "source": [
        "- ID_ref에 본인의 index를 넣고 본인의 데이터가 제대로 출력되는지 확인"
      ],
      "metadata": {
        "id": "KC97nb0DD4et"
      }
    },
    {
      "cell_type": "code",
      "source": [
        "ID_ref = 29\n",
        "ANu[ID_ref]\n",
        "print(mbti.iloc[ID_ref,:])\n",
        "\n",
        "print('\\nunit vector:')\n",
        "print(ANu[ID_ref])"
      ],
      "metadata": {
        "colab": {
          "base_uri": "https://localhost:8080/"
        },
        "id": "yiX0R1ii4f-q",
        "outputId": "d05ab228-6251-4bd5-90c7-d72a98aebd27"
      },
      "execution_count": 8,
      "outputs": [
        {
          "output_type": "stream",
          "name": "stdout",
          "text": [
            "이름    김유빈\n",
            "IE     -1\n",
            "NS      0\n",
            "FT     -2\n",
            "PJ     -1\n",
            "Name: 29, dtype: object\n",
            "\n",
            "unit vector:\n",
            "[-0.46245261  0.01530967 -0.78810043 -0.40595677]\n"
          ]
        }
      ]
    },
    {
      "cell_type": "markdown",
      "source": [
        "- 나와 가장 비슷하거나 다른 성향을 가진 학생을 찾기"
      ],
      "metadata": {
        "id": "RtuHFhgCEE6_"
      }
    },
    {
      "cell_type": "code",
      "source": [
        "ku = ANu[ID_ref]\n",
        "SS = np.dot(ANu,ku)\n",
        "\n",
        "#SS = np.zeros((len(A),1))\n",
        "#for n in range(len(A)):\n",
        "#  SS[n] = np.dot(ku,ANu[n])\n",
        "\n",
        "SS[ID_ref] = 0.5 # 자기 자신이 1로 제일 높으므로 제외하기 위해 임의로 0.5를 넣자.\n",
        "\n",
        "# dot product가 가장 큰, 가장 작은, 0에 가장 가까운 사람을 찾기\n",
        "SS_max = np.argmax(SS)\n",
        "SS_min = np.argmin(SS)\n",
        "SS_zero = np.argmin(np.abs(SS))\n",
        "\n",
        "print(SS[SS_max], SS[SS_min], SS[SS_zero])"
      ],
      "metadata": {
        "colab": {
          "base_uri": "https://localhost:8080/"
        },
        "id": "fQZAsGeI3AIn",
        "outputId": "9e3757ff-360d-4604-fc5d-4a3e391f8f06"
      },
      "execution_count": 9,
      "outputs": [
        {
          "output_type": "stream",
          "name": "stdout",
          "text": [
            "0.9646723399895538 -0.9337783898881833 -0.01613609594756643\n"
          ]
        }
      ]
    },
    {
      "cell_type": "code",
      "source": [
        "print('dot product결과가 가장 높은 학생')\n",
        "print(mbti.iloc[SS_max])\n",
        "\n",
        "print('\\nunit vector:')\n",
        "print(ANu[SS_max])"
      ],
      "metadata": {
        "colab": {
          "base_uri": "https://localhost:8080/"
        },
        "id": "wcI9yaHT_dnR",
        "outputId": "6dc59475-d32f-4306-9ae0-4b101123b3c2"
      },
      "execution_count": 10,
      "outputs": [
        {
          "output_type": "stream",
          "name": "stdout",
          "text": [
            "dot product결과가 가장 높은 학생\n",
            "이름    정우진\n",
            "IE     -2\n",
            "NS      0\n",
            "FT     -2\n",
            "PJ     -1\n",
            "Name: 2, dtype: object\n",
            "\n",
            "unit vector:\n",
            "[-0.67826512 -0.00296739 -0.66415968 -0.31438755]\n"
          ]
        }
      ]
    },
    {
      "cell_type": "code",
      "source": [
        "print('dot product결과가 가장 낮은 학생')\n",
        "print(mbti.iloc[SS_min])\n",
        "print('\\nunit vector:')\n",
        "print(ANu[SS_min])"
      ],
      "metadata": {
        "colab": {
          "base_uri": "https://localhost:8080/"
        },
        "id": "1rLJ6VeS3v-j",
        "outputId": "c655547a-696b-48df-b207-3339af6f9571"
      },
      "execution_count": 11,
      "outputs": [
        {
          "output_type": "stream",
          "name": "stdout",
          "text": [
            "dot product결과가 가장 낮은 학생\n",
            "이름    이은서\n",
            "IE      1\n",
            "NS     -1\n",
            "FT      2\n",
            "PJ      1\n",
            "Name: 42, dtype: object\n",
            "\n",
            "unit vector:\n",
            "[ 0.39870987 -0.36699819  0.76846091  0.34030956]\n"
          ]
        }
      ]
    },
    {
      "cell_type": "code",
      "source": [
        "print('dot product 절대값이 가장 작은 학생 ~ perpendicular')\n",
        "print(mbti.iloc[SS_zero])\n",
        "print('\\nunit vector:')\n",
        "print(ANu[SS_zero])"
      ],
      "metadata": {
        "colab": {
          "base_uri": "https://localhost:8080/"
        },
        "id": "cByo8h1h5BC_",
        "outputId": "bbcb1ba4-ab80-424f-c88c-0336c99422f6"
      },
      "execution_count": 12,
      "outputs": [
        {
          "output_type": "stream",
          "name": "stdout",
          "text": [
            "dot product 절대값이 가장 작은 학생 ~ perpendicular\n",
            "이름    이유빈\n",
            "IE     -1\n",
            "NS     -1\n",
            "FT      0\n",
            "PJ      1\n",
            "Name: 22, dtype: object\n",
            "\n",
            "unit vector:\n",
            "[-0.5332864  -0.60356389  0.01648272  0.59249014]\n"
          ]
        }
      ]
    },
    {
      "cell_type": "code",
      "source": [
        "ind_ss = np.argsort(SS)[::-1]\n",
        "print('나와 비슷한 MBTI를 가진 학생들 - Top 5')\n",
        "mbti.iloc[ind_ss[:5],0]"
      ],
      "metadata": {
        "id": "sJcseH96NUGz",
        "outputId": "2dc78c0a-f177-4f05-a782-fd9612a45ca0",
        "colab": {
          "base_uri": "https://localhost:8080/"
        }
      },
      "execution_count": 13,
      "outputs": [
        {
          "output_type": "stream",
          "name": "stdout",
          "text": [
            "나와 비슷한 MBTI를 가진 학생들 - Top 5\n"
          ]
        },
        {
          "output_type": "execute_result",
          "data": {
            "text/plain": [
              "2     정우진\n",
              "15    김형지\n",
              "31    문정빈\n",
              "32    박성호\n",
              "44    임도연\n",
              "Name: 이름, dtype: object"
            ]
          },
          "metadata": {},
          "execution_count": 13
        }
      ]
    },
    {
      "cell_type": "code",
      "source": [],
      "metadata": {
        "id": "8aDvALtpN2np"
      },
      "execution_count": 13,
      "outputs": []
    }
  ]
}