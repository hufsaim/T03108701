{
  "nbformat": 4,
  "nbformat_minor": 0,
  "metadata": {
    "colab": {
      "provenance": [],
      "gpuType": "T4",
      "authorship_tag": "ABX9TyOyD9EXLv/P2hQ1+sVK3iXR",
      "include_colab_link": true
    },
    "kernelspec": {
      "name": "python3",
      "display_name": "Python 3"
    },
    "language_info": {
      "name": "python"
    },
    "accelerator": "GPU"
  },
  "cells": [
    {
      "cell_type": "markdown",
      "metadata": {
        "id": "view-in-github",
        "colab_type": "text"
      },
      "source": [
        "<a href=\"https://colab.research.google.com/github/hufsaim/T03108701/blob/main/notebook_2025/Lab02_cost_of_computation.ipynb\" target=\"_parent\"><img src=\"https://colab.research.google.com/assets/colab-badge.svg\" alt=\"Open In Colab\"/></a>"
      ]
    },
    {
      "cell_type": "code",
      "execution_count": 1,
      "metadata": {
        "id": "pPB-G6TlUa6Z"
      },
      "outputs": [],
      "source": [
        "import numpy as np\n",
        "import cupy as cp\n",
        "import time"
      ]
    },
    {
      "cell_type": "markdown",
      "source": [
        "- 이번 실습은 런타임 -> 런타임 유형변경 -> 하드웨어 가속기에서 GPU 선택(예: T4 GPU) 과정을 통해 colab에서 GPU를 활용할 수 있도록 해야 합니다."
      ],
      "metadata": {
        "id": "Q6uAtr0onBYW"
      }
    },
    {
      "cell_type": "code",
      "source": [
        "!nvidia-smi"
      ],
      "metadata": {
        "colab": {
          "base_uri": "https://localhost:8080/"
        },
        "id": "fvR4HBwyecco",
        "outputId": "851f0cc2-9c6e-4f03-b343-14059361a288"
      },
      "execution_count": 2,
      "outputs": [
        {
          "output_type": "stream",
          "name": "stdout",
          "text": [
            "Tue Sep 30 07:54:22 2025       \n",
            "+-----------------------------------------------------------------------------------------+\n",
            "| NVIDIA-SMI 550.54.15              Driver Version: 550.54.15      CUDA Version: 12.4     |\n",
            "|-----------------------------------------+------------------------+----------------------+\n",
            "| GPU  Name                 Persistence-M | Bus-Id          Disp.A | Volatile Uncorr. ECC |\n",
            "| Fan  Temp   Perf          Pwr:Usage/Cap |           Memory-Usage | GPU-Util  Compute M. |\n",
            "|                                         |                        |               MIG M. |\n",
            "|=========================================+========================+======================|\n",
            "|   0  Tesla T4                       Off |   00000000:00:04.0 Off |                    0 |\n",
            "| N/A   51C    P8             10W /   70W |       0MiB /  15360MiB |      0%      Default |\n",
            "|                                         |                        |                  N/A |\n",
            "+-----------------------------------------+------------------------+----------------------+\n",
            "                                                                                         \n",
            "+-----------------------------------------------------------------------------------------+\n",
            "| Processes:                                                                              |\n",
            "|  GPU   GI   CI        PID   Type   Process name                              GPU Memory |\n",
            "|        ID   ID                                                               Usage      |\n",
            "|=========================================================================================|\n",
            "|  No running processes found                                                             |\n",
            "+-----------------------------------------------------------------------------------------+\n"
          ]
        }
      ]
    },
    {
      "cell_type": "markdown",
      "source": [
        "### Matrix A, vector b 정의하기 (numpy)"
      ],
      "metadata": {
        "id": "UhnSxe_JVzBf"
      }
    },
    {
      "cell_type": "code",
      "source": [
        "n=2\n",
        "A = np.random.randint(-10,10,size=(n,n))\n",
        "b = np.random.randint(-10,10,size=(n,1))\n",
        "print('A=\\n',A)\n",
        "print('b=\\n',b)"
      ],
      "metadata": {
        "colab": {
          "base_uri": "https://localhost:8080/"
        },
        "id": "gMUTs3hbUuJL",
        "outputId": "2dad65bf-2fbf-42c3-ee4e-35555e5f145b"
      },
      "execution_count": null,
      "outputs": [
        {
          "output_type": "stream",
          "name": "stdout",
          "text": [
            "A=\n",
            " [[ 9 -2]\n",
            " [ 3  2]]\n",
            "b=\n",
            " [[-6]\n",
            " [ 1]]\n"
          ]
        }
      ]
    },
    {
      "cell_type": "markdown",
      "source": [
        "### Ax = b 의 solution x를 계산하기 (numpy)"
      ],
      "metadata": {
        "id": "vCLjgv0KV2rs"
      }
    },
    {
      "cell_type": "code",
      "source": [
        "x = np.linalg.solve(A,b)\n",
        "print('solution of Ax = b: \\n',x)"
      ],
      "metadata": {
        "colab": {
          "base_uri": "https://localhost:8080/"
        },
        "id": "yXYXGQAaUwe7",
        "outputId": "3a18f091-e7d7-4619-d908-e558b779120d"
      },
      "execution_count": null,
      "outputs": [
        {
          "output_type": "stream",
          "name": "stdout",
          "text": [
            "solution of Ax = b: \n",
            " [[-0.41666667]\n",
            " [ 1.125     ]]\n"
          ]
        }
      ]
    },
    {
      "cell_type": "markdown",
      "source": [
        "### Matrix A, vector b를 정의하고 Ax = b의 solution x를 계산하기 (cupy - GPU활용)"
      ],
      "metadata": {
        "id": "dw4chJ35WW2C"
      }
    },
    {
      "cell_type": "code",
      "source": [
        "n = 2\n",
        "A = cp.random.randint(-10,10,size=(n,n))\n",
        "b = cp.random.randint(-10,10,size=(n,1))\n",
        "print('A=\\n',A)\n",
        "print('b=\\n',b)\n",
        "\n",
        "x = cp.linalg.solve(A,b)\n",
        "print('solution of Ax = b: \\n',x)"
      ],
      "metadata": {
        "colab": {
          "base_uri": "https://localhost:8080/"
        },
        "id": "DK9bMUquVQyT",
        "outputId": "55727bf4-a9e9-4fc6-8e9a-69c14b31f754"
      },
      "execution_count": null,
      "outputs": [
        {
          "output_type": "stream",
          "name": "stdout",
          "text": [
            "A=\n",
            " [[ -3  -3]\n",
            " [-10   4]]\n",
            "b=\n",
            " [[-2]\n",
            " [ 2]]\n",
            "solution of Ax = b: \n",
            " [[0.04761905]\n",
            " [0.61904762]]\n"
          ]
        }
      ]
    },
    {
      "cell_type": "markdown",
      "source": [
        "### Matrix A의 inverse Matrix를 계산하기 (numpy - CPU활용)"
      ],
      "metadata": {
        "id": "kLhIF-N2nlNw"
      }
    },
    {
      "cell_type": "code",
      "source": [
        "n = 2\n",
        "A = np.random.randint(-10,10,size=(n,n))\n",
        "print('A=\\n',A)\n",
        "\n",
        "A_inv = np.linalg.inv(A)\n",
        "print('inverse of A=\\n',A_inv)"
      ],
      "metadata": {
        "colab": {
          "base_uri": "https://localhost:8080/"
        },
        "id": "tm-jiQ6hnkld",
        "outputId": "6da66028-b653-4d5c-ce41-34e3330dc00c"
      },
      "execution_count": 3,
      "outputs": [
        {
          "output_type": "stream",
          "name": "stdout",
          "text": [
            "A=\n",
            " [[-10  -4]\n",
            " [  1  -7]]\n",
            "inverse of A=\n",
            " [[-0.09459459  0.05405405]\n",
            " [-0.01351351 -0.13513514]]\n"
          ]
        }
      ]
    },
    {
      "cell_type": "markdown",
      "source": [
        "### Matrix A의 inverse Matrix를 계산하기 (cupy - GPU활용)\n"
      ],
      "metadata": {
        "id": "Rr1DyIS0nyPr"
      }
    },
    {
      "cell_type": "code",
      "source": [
        "n = 2\n",
        "A = cp.random.randint(-10,10,size=(n,n))\n",
        "print('A=\\n',A)\n",
        "\n",
        "A_inv = cp.linalg.inv(A)\n",
        "print('inverse of A=\\n',A_inv)"
      ],
      "metadata": {
        "colab": {
          "base_uri": "https://localhost:8080/"
        },
        "id": "JqRhsxqen9Zj",
        "outputId": "fde70559-ee83-47bc-b23b-4b736c45fffb"
      },
      "execution_count": 4,
      "outputs": [
        {
          "output_type": "stream",
          "name": "stdout",
          "text": [
            "A=\n",
            " [[-2 -2]\n",
            " [ 4  5]]\n",
            "inverse of A=\n",
            " [[-2.5 -1. ]\n",
            " [ 2.   1. ]]\n"
          ]
        }
      ]
    },
    {
      "cell_type": "markdown",
      "source": [
        "### CPU를 사용한 풀이 (for large N)"
      ],
      "metadata": {
        "id": "ta6y_X-dVo0C"
      }
    },
    {
      "cell_type": "code",
      "source": [
        "N = 10000\n",
        "print(N,'x',N,' matrix:')\n",
        "A = np.random.randint(-10,10,size=(N,N))\n",
        "b = np.random.randint(-10,10,size=(N,1))\n",
        "#print('\\ndet(A)=',np.linalg.det(A))\n",
        "\n",
        "s0 = time.time()\n",
        "x = np.linalg.solve(A,b)\n",
        "solve_time = time.time() -s0\n",
        "print('computation time (solution of linear equation)= ',solve_time,' sec')\n",
        "\n",
        "s0 = time.time()\n",
        "x = np.linalg.inv(A)\n",
        "solve_time = time.time() -s0\n",
        "print('computation time (inverse matrix) = ',solve_time,' sec')"
      ],
      "metadata": {
        "colab": {
          "base_uri": "https://localhost:8080/"
        },
        "id": "hcuXsCmmUyyB",
        "outputId": "2dd26dff-f9d9-445c-d70e-841cc39cf9cd"
      },
      "execution_count": 5,
      "outputs": [
        {
          "output_type": "stream",
          "name": "stdout",
          "text": [
            "10000 x 10000  matrix:\n",
            "computation time (solution of linear equation)=  23.524182558059692  sec\n",
            "computation time (inverse matrix) =  87.14442348480225  sec\n"
          ]
        }
      ]
    },
    {
      "cell_type": "markdown",
      "source": [
        "### GPU를 사용한 풀이 (for large N)\n",
        "\n"
      ],
      "metadata": {
        "id": "v5kEACgOVjAo"
      }
    },
    {
      "cell_type": "code",
      "source": [
        "N = 10000\n",
        "print(N,'x',N,' matrix:')\n",
        "Ac = cp.random.randint(-10,10,size=(N,N))\n",
        "bc = cp.random.randint(-10,10,size=(N,1))\n",
        "#print('\\ndet(A)=',np.linalg.det(A))\n",
        "\n",
        "s0 = time.time()\n",
        "xc = cp.linalg.solve(Ac,bc)\n",
        "solve_time = time.time() -s0\n",
        "print('computation time (solution of linear equation) = ',solve_time,' sec')\n",
        "\n",
        "s0 = time.time()\n",
        "xc = cp.linalg.inv(Ac)\n",
        "solve_time = time.time() -s0\n",
        "print('computation time (inverse matrix) = ',solve_time,' sec')"
      ],
      "metadata": {
        "colab": {
          "base_uri": "https://localhost:8080/"
        },
        "id": "a4o3gj3RU8UD",
        "outputId": "c9f74393-e00c-444e-9299-1e75b6ea300c"
      },
      "execution_count": 6,
      "outputs": [
        {
          "output_type": "stream",
          "name": "stdout",
          "text": [
            "10000 x 10000  matrix:\n",
            "computation time (solution of linear equation) =  3.199028491973877  sec\n",
            "computation time (inverse matrix) =  2.1004598140716553  sec\n"
          ]
        }
      ]
    },
    {
      "cell_type": "markdown",
      "source": [
        "## Matrix multiplication"
      ],
      "metadata": {
        "id": "2RIcFEoKYl--"
      }
    },
    {
      "cell_type": "code",
      "source": [
        "n = 2\n",
        "A = np.random.randint(-10,10,size=(n,n))\n",
        "B = np.random.randint(-10,10,size=(n,n))\n",
        "print('A=\\n',A)\n",
        "print('B=\\n',B)\n",
        "\n",
        "AB = np.matmul(A,B)\n",
        "print('AB=\\n',AB)\n"
      ],
      "metadata": {
        "colab": {
          "base_uri": "https://localhost:8080/"
        },
        "id": "Do_465dTZCUu",
        "outputId": "ca582be1-4e40-412a-d6dd-2aa439ccb863"
      },
      "execution_count": 7,
      "outputs": [
        {
          "output_type": "stream",
          "name": "stdout",
          "text": [
            "A=\n",
            " [[ 2 -3]\n",
            " [ 8  4]]\n",
            "B=\n",
            " [[-8  1]\n",
            " [ 9  6]]\n",
            "AB=\n",
            " [[-43 -16]\n",
            " [-28  32]]\n"
          ]
        }
      ]
    },
    {
      "cell_type": "markdown",
      "source": [
        "### CPU를 사용한 AB computation (for large N)"
      ],
      "metadata": {
        "id": "UKj5JiGpaFB8"
      }
    },
    {
      "cell_type": "code",
      "source": [
        "N = 2000\n",
        "A = np.random.randint(-10,10,size=(N,N))\n",
        "B = np.random.randint(-10,10,size=(N,N))\n",
        "print('shape of A: ',A.shape)\n",
        "print('shape of B:',B.shape)\n",
        "\n",
        "s0 = time.time()\n",
        "AB = np.matmul(A, B)\n",
        "compu_time=time.time() - s0\n",
        "print('computation time = ', compu_time,' sec')"
      ],
      "metadata": {
        "colab": {
          "base_uri": "https://localhost:8080/"
        },
        "id": "jP2iVd0lYlGb",
        "outputId": "b8c2c461-33a6-4a4e-d31f-4ea2fcb79e0a"
      },
      "execution_count": 8,
      "outputs": [
        {
          "output_type": "stream",
          "name": "stdout",
          "text": [
            "shape of A:  (2000, 2000)\n",
            "shape of B: (2000, 2000)\n",
            "computation time =  13.391748189926147  sec\n"
          ]
        }
      ]
    },
    {
      "cell_type": "markdown",
      "source": [
        "### GPU를 사용한 AB computation (for large N)"
      ],
      "metadata": {
        "id": "dwv7FGvxaPMa"
      }
    },
    {
      "cell_type": "code",
      "source": [
        "N = 2000\n",
        "A = cp.random.randint(-10,10,size=(N,N))\n",
        "B = cp.random.randint(-10,10,size=(N,N))\n",
        "print('shape of A: ',A.shape)\n",
        "print('shape of B:',B.shape)\n",
        "\n",
        "s0 = time.time()\n",
        "AB = cp.matmul(A, B)\n",
        "compu_time=time.time() - s0\n",
        "print('computation time = ', compu_time,' sec')"
      ],
      "metadata": {
        "colab": {
          "base_uri": "https://localhost:8080/"
        },
        "id": "zTlbtAAHYlQP",
        "outputId": "82d1a35f-5112-41d2-a6ca-5e3b8d796adb"
      },
      "execution_count": 9,
      "outputs": [
        {
          "output_type": "stream",
          "name": "stdout",
          "text": [
            "shape of A:  (2000, 2000)\n",
            "shape of B: (2000, 2000)\n",
            "computation time =  2.2283873558044434  sec\n"
          ]
        }
      ]
    },
    {
      "cell_type": "markdown",
      "source": [
        "## Exercise\n",
        "- N = 10, 100, 1000, 10000 인 경우 numpy로 Ax=b를 푸는 시간과 cupy로 Ax=b를 푸는데 걸리는 시간을 각각 5번씩 반복하여 측정하여 평균을 구해보기.\n",
        "- N = 10, 100, 1000, 10000 인 경우 numpy로 A의 inverse matrix를 구하는 시간과 cupy로 A의 inverse matrix를 구하는 데 걸리는 시간을 각각 5번씩 반복하여 측정하여 평균을 구해보기.\n",
        "- N = 2, 20, 200, 2000 인 경우 numpy로 AB를 계산하는 시간과 cupy로 AB를 계산하는 시간을 각각 5번씩 반복하여 측정하여 평균을 구해보기."
      ],
      "metadata": {
        "id": "W62q-sfqXq3o"
      }
    },
    {
      "cell_type": "code",
      "source": [],
      "metadata": {
        "id": "qJtCIg4aYe6P"
      },
      "execution_count": null,
      "outputs": []
    }
  ]
}