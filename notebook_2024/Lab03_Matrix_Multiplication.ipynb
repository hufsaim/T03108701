{
  "nbformat": 4,
  "nbformat_minor": 0,
  "metadata": {
    "colab": {
      "provenance": [],
      "authorship_tag": "ABX9TyNGhO5M0NdyiFTpTxBpRAMQ",
      "include_colab_link": true
    },
    "kernelspec": {
      "name": "python3",
      "display_name": "Python 3"
    },
    "language_info": {
      "name": "python"
    }
  },
  "cells": [
    {
      "cell_type": "markdown",
      "metadata": {
        "id": "view-in-github",
        "colab_type": "text"
      },
      "source": [
        "<a href=\"https://colab.research.google.com/github/hufsaim/T03108701/blob/main/notebook_2024/Lab03_Matrix_Multiplication.ipynb\" target=\"_parent\"><img src=\"https://colab.research.google.com/assets/colab-badge.svg\" alt=\"Open In Colab\"/></a>"
      ]
    },
    {
      "cell_type": "code",
      "execution_count": 1,
      "metadata": {
        "id": "eD8sqFgxvFBA"
      },
      "outputs": [],
      "source": [
        "import numpy as np\n",
        "import matplotlib.pyplot as plt\n",
        "import pandas as pd"
      ]
    },
    {
      "cell_type": "code",
      "source": [
        "!sudo apt-get install -y fonts-nanum\n",
        "!sudo fc-cache -fv\n",
        "!rm ~/.cache/matplotlib -rf"
      ],
      "metadata": {
        "id": "RMC-xyQBx6H8"
      },
      "execution_count": null,
      "outputs": []
    },
    {
      "cell_type": "code",
      "source": [
        "from matplotlib import rc\n",
        "plt.rc('font', family='NanumBarunGothic')\n",
        "plt.rc('font', size=7)"
      ],
      "metadata": {
        "id": "8Ds4whaY0KjL"
      },
      "execution_count": 3,
      "outputs": []
    },
    {
      "cell_type": "markdown",
      "source": [
        "### data load"
      ],
      "metadata": {
        "id": "TSYhXvqb81CZ"
      }
    },
    {
      "cell_type": "code",
      "source": [
        "df = pd.read_excel('MBTI2024.xlsx')\n",
        "print(df.shape)\n",
        "names = df.columns[1:]\n",
        "print(names)"
      ],
      "metadata": {
        "id": "94uYhidgvHRv"
      },
      "execution_count": null,
      "outputs": []
    },
    {
      "cell_type": "code",
      "source": [
        "A = df.iloc[3:,1:].to_numpy()\n",
        "N = 20\n",
        "A = A[:,:N]\n",
        "A_names = names[:N]\n",
        "print(A.shape)\n",
        "print(A_names)\n",
        "#print(A)"
      ],
      "metadata": {
        "id": "4Nx4B2jEvZkf"
      },
      "execution_count": null,
      "outputs": []
    },
    {
      "cell_type": "markdown",
      "source": [
        "## A transpose, ATA = S"
      ],
      "metadata": {
        "id": "uGLTlD5k84Rf"
      }
    },
    {
      "cell_type": "code",
      "source": [
        "AT = A.transpose()\n",
        "ATA = np.matmul(AT,A)\n",
        "print(A.shape,AT.shape,ATA.shape)"
      ],
      "metadata": {
        "colab": {
          "base_uri": "https://localhost:8080/"
        },
        "id": "6f6oUcruvgz7",
        "outputId": "a0bb4bc6-8548-489c-867e-5fe26bc28bbe"
      },
      "execution_count": 6,
      "outputs": [
        {
          "output_type": "stream",
          "name": "stdout",
          "text": [
            "(5, 20) (20, 5) (20, 20)\n"
          ]
        }
      ]
    },
    {
      "cell_type": "code",
      "source": [
        "plt.figure(figsize=(9,9))\n",
        "plt.imshow(ATA,vmin=-2.,vmax=2.,cmap='bwr')\n",
        "plt.xticks(ticks=np.arange(len(A_names)), labels=np.array(A_names))\n",
        "plt.yticks(ticks=np.arange(len(A_names)), labels=np.array(A_names))\n",
        "plt.colorbar()\n",
        "plt.show()"
      ],
      "metadata": {
        "id": "AO7CuVg7voCe"
      },
      "execution_count": null,
      "outputs": []
    },
    {
      "cell_type": "code",
      "source": [
        "A = df.iloc[3:,1:].to_numpy()\n",
        "N = 40\n",
        "A = A[:,:N]\n",
        "A_names = names[:N]\n",
        "AT = A.transpose()\n",
        "ATA = np.matmul(AT,A)\n",
        "print(A.shape,AT.shape,ATA.shape)"
      ],
      "metadata": {
        "colab": {
          "base_uri": "https://localhost:8080/"
        },
        "id": "ePpr4Ggj4r1R",
        "outputId": "f6fe11e8-657c-4bfd-8d08-09258f6b3cdf"
      },
      "execution_count": 8,
      "outputs": [
        {
          "output_type": "stream",
          "name": "stdout",
          "text": [
            "(5, 40) (40, 5) (40, 40)\n"
          ]
        }
      ]
    },
    {
      "cell_type": "code",
      "source": [
        "plt.figure(figsize=(9,9))\n",
        "plt.imshow(ATA,vmin=-2.,vmax=2.,cmap='bwr')\n",
        "#plt.xticks(ticks=np.arange(len(A_names)), labels=np.array(A_names))\n",
        "#plt.yticks(ticks=np.arange(len(A_names)), labels=np.array(A_names))\n",
        "plt.colorbar()\n",
        "plt.show()"
      ],
      "metadata": {
        "colab": {
          "base_uri": "https://localhost:8080/",
          "height": 740
        },
        "id": "HRi4YZ3B48p-",
        "outputId": "2c498f82-b130-4cc9-9cdf-2d943dc7d620"
      },
      "execution_count": 9,
      "outputs": [
        {
          "output_type": "display_data",
          "data": {
            "text/plain": [
              "<Figure size 900x900 with 2 Axes>"
            ],
            "image/png": "[encoded data removed]"
          },
          "metadata": {}
        }
      ]
    },
    {
      "cell_type": "markdown",
      "source": [
        "## interpretation"
      ],
      "metadata": {
        "id": "ibzk6AWp895L"
      }
    },
    {
      "cell_type": "code",
      "source": [
        "A_diag = np.diag(ATA)\n",
        "print(A_diag)"
      ],
      "metadata": {
        "colab": {
          "base_uri": "https://localhost:8080/"
        },
        "id": "36wfVKXgvpJ9",
        "outputId": "9b8714fb-344b-4334-c16f-7e8b5e894f01"
      },
      "execution_count": 10,
      "outputs": [
        {
          "output_type": "stream",
          "name": "stdout",
          "text": [
            "[0.612  0.402  0.6004 0.2056 0.3128 1.0392 1.9876 0.7324 1.2144 0.5368\n",
            " 1.928  0.7904 0.89   0.76   0.7996 1.2904 1.56   1.5804 0.6188 0.4264\n",
            " 0.72   0.1752 1.102  0.5928 0.6928 1.05   0.6592 0.7436 2.1976 2.012\n",
            " 0.2364 1.6208 1.36   0.3412 0.2624 0.2764 0.3976 0.9144 0.2192 0.6984]\n"
          ]
        }
      ]
    },
    {
      "cell_type": "code",
      "source": [
        "val = np.sort(A_diag)\n",
        "print(val)\n",
        "ind = np.argsort(A_diag)\n",
        "print(ind)"
      ],
      "metadata": {
        "colab": {
          "base_uri": "https://localhost:8080/"
        },
        "id": "g1WOHDlpv8HC",
        "outputId": "eedc11e0-bafa-4d2c-f9ac-f0a73c8d4778"
      },
      "execution_count": 11,
      "outputs": [
        {
          "output_type": "stream",
          "name": "stdout",
          "text": [
            "[0.1752 0.2056 0.2192 0.2364 0.2624 0.2764 0.3128 0.3412 0.3976 0.402\n",
            " 0.4264 0.5368 0.5928 0.6004 0.612  0.6188 0.6592 0.6928 0.6984 0.72\n",
            " 0.7324 0.7436 0.76   0.7904 0.7996 0.89   0.9144 1.0392 1.05   1.102\n",
            " 1.2144 1.2904 1.36   1.56   1.5804 1.6208 1.928  1.9876 2.012  2.1976]\n",
            "[21  3 38 30 34 35  4 33 36  1 19  9 23  2  0 18 26 24 39 20  7 27 13 11\n",
            " 14 12 37  5 25 22  8 15 32 16 17 31 10  6 29 28]\n"
          ]
        }
      ]
    },
    {
      "cell_type": "code",
      "source": [
        "print(names[ind[-5:]])\n",
        "print(names[ind[:5]])"
      ],
      "metadata": {
        "id": "6ehaMgyowC-w"
      },
      "execution_count": null,
      "outputs": []
    },
    {
      "cell_type": "code",
      "source": [
        "n = 7\n",
        "print(names[n])\n",
        "a = ATA[n]\n",
        "print(a)\n",
        "ind = np.argsort(a)\n",
        "print(\"dot product 가장 큰 사람: \",a[ind[-1]],names[ind[-1]])\n",
        "print(\"dot product 가장 작은 사람: \",a[ind[0]],names[ind[0]])\n",
        "ind_abs = np.argsort(np.abs(a))\n",
        "print(\"dot product 절대값이 가장 작은 사람:\",a[ind_abs[0]], names[ind_abs[0]])"
      ],
      "metadata": {
        "id": "mc70o4Cg5NQF"
      },
      "execution_count": null,
      "outputs": []
    }
  ]
}