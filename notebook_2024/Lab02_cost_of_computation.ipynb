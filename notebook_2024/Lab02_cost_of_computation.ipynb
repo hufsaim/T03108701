{
  "nbformat": 4,
  "nbformat_minor": 0,
  "metadata": {
    "colab": {
      "provenance": [],
      "gpuType": "T4",
      "authorship_tag": "ABX9TyPfjPMetCmvXdgDndm7zrbC",
      "include_colab_link": true
    },
    "kernelspec": {
      "name": "python3",
      "display_name": "Python 3"
    },
    "language_info": {
      "name": "python"
    },
    "accelerator": "GPU"
  },
  "cells": [
    {
      "cell_type": "markdown",
      "metadata": {
        "id": "view-in-github",
        "colab_type": "text"
      },
      "source": [
        "<a href=\"https://colab.research.google.com/github/hufsaim/T03108701/blob/main/notebook_2024/Lab02_cost_of_computation.ipynb\" target=\"_parent\"><img src=\"https://colab.research.google.com/assets/colab-badge.svg\" alt=\"Open In Colab\"/></a>"
      ]
    },
    {
      "cell_type": "code",
      "execution_count": 1,
      "metadata": {
        "id": "pPB-G6TlUa6Z"
      },
      "outputs": [],
      "source": [
        "import numpy as np\n",
        "import cupy as cp\n",
        "import time"
      ]
    },
    {
      "cell_type": "markdown",
      "source": [
        "### Matrix A, vector b 정의하기 (numpy)"
      ],
      "metadata": {
        "id": "UhnSxe_JVzBf"
      }
    },
    {
      "cell_type": "code",
      "source": [
        "n=2\n",
        "A = np.random.randint(-10,10,size=(n,n))\n",
        "b = np.random.randint(-10,10,size=(n,1))\n",
        "print('A=\\n',A)\n",
        "print('b=\\n',b)"
      ],
      "metadata": {
        "colab": {
          "base_uri": "https://localhost:8080/"
        },
        "id": "gMUTs3hbUuJL",
        "outputId": "c4ba7f68-4d8d-4ae9-b213-28d4654cad09"
      },
      "execution_count": 2,
      "outputs": [
        {
          "output_type": "stream",
          "name": "stdout",
          "text": [
            "A=\n",
            " [[ 8 -3]\n",
            " [ 3  3]]\n",
            "b=\n",
            " [[ 1]\n",
            " [-5]]\n"
          ]
        }
      ]
    },
    {
      "cell_type": "markdown",
      "source": [
        "### Ax = b 의 solution x를 계산하기 (numpy)"
      ],
      "metadata": {
        "id": "vCLjgv0KV2rs"
      }
    },
    {
      "cell_type": "code",
      "source": [
        "x = np.linalg.solve(A,b)\n",
        "print('solution of Ax = b: \\n',x)"
      ],
      "metadata": {
        "colab": {
          "base_uri": "https://localhost:8080/"
        },
        "id": "yXYXGQAaUwe7",
        "outputId": "1c5621d3-da1b-4802-d3ba-c27cf4876b69"
      },
      "execution_count": 3,
      "outputs": [
        {
          "output_type": "stream",
          "name": "stdout",
          "text": [
            "solution of Ax = b: \n",
            " [[-0.36363636]\n",
            " [-1.3030303 ]]\n"
          ]
        }
      ]
    },
    {
      "cell_type": "markdown",
      "source": [
        "### Matrix A, vector b를 정의하고 Ax = b의 solution x를 계산하기 (cupy - GPU활용)"
      ],
      "metadata": {
        "id": "dw4chJ35WW2C"
      }
    },
    {
      "cell_type": "code",
      "source": [
        "n = 2\n",
        "A = cp.random.randint(-10,10,size=(n,n))\n",
        "b = cp.random.randint(-10,10,size=(n,1))\n",
        "print('A=\\n',A)\n",
        "print('b=\\n',b)\n",
        "\n",
        "x = cp.linalg.solve(A,b)\n",
        "print('solution of Ax = b: \\n',x)"
      ],
      "metadata": {
        "colab": {
          "base_uri": "https://localhost:8080/"
        },
        "id": "DK9bMUquVQyT",
        "outputId": "1e55fee7-dcb6-4b32-c084-3e9b01a24135"
      },
      "execution_count": 4,
      "outputs": [
        {
          "output_type": "stream",
          "name": "stdout",
          "text": [
            "A=\n",
            " [[-3 -1]\n",
            " [ 1 -6]]\n",
            "b=\n",
            " [[-4]\n",
            " [ 3]]\n",
            "solution of Ax = b: \n",
            " [[ 1.42105263]\n",
            " [-0.26315789]]\n"
          ]
        }
      ]
    },
    {
      "cell_type": "markdown",
      "source": [
        "### CPU를 사용한 풀이 (for large N)"
      ],
      "metadata": {
        "id": "ta6y_X-dVo0C"
      }
    },
    {
      "cell_type": "code",
      "source": [
        "N=10000\n",
        "print(N,'x',N,' matrix:')\n",
        "A = np.random.randint(-10,10,size=(N,N))\n",
        "b = np.random.randint(-10,10,size=(N,1))\n",
        "#print('\\ndet(A)=',np.linalg.det(A))\n",
        "\n",
        "s0 = time.time()\n",
        "x=np.linalg.solve(A,b)\n",
        "solve_time=time.time() -s0\n",
        "print('computation time = ',solve_time,' sec')"
      ],
      "metadata": {
        "colab": {
          "base_uri": "https://localhost:8080/"
        },
        "id": "hcuXsCmmUyyB",
        "outputId": "aa20abf7-85a0-43d9-8ea6-68f417413144"
      },
      "execution_count": 5,
      "outputs": [
        {
          "output_type": "stream",
          "name": "stdout",
          "text": [
            "10000 x 10000  matrix:\n",
            "computation time =  17.23267889022827  sec\n"
          ]
        }
      ]
    },
    {
      "cell_type": "markdown",
      "source": [
        "### GPU를 사용한 풀이 (for large N)\n",
        "\n"
      ],
      "metadata": {
        "id": "v5kEACgOVjAo"
      }
    },
    {
      "cell_type": "code",
      "source": [
        "N=10000\n",
        "print(N,'x',N,' matrix:')\n",
        "Ac = cp.random.randint(-10,10,size=(N,N))\n",
        "bc = cp.random.randint(-10,10,size=(N,1))\n",
        "#print('\\ndet(A)=',np.linalg.det(A))\n",
        "\n",
        "s0 = time.time()\n",
        "xc=cp.linalg.solve(Ac,bc)\n",
        "solve_time=time.time() -s0\n",
        "print('computation time = ',solve_time,' sec')"
      ],
      "metadata": {
        "colab": {
          "base_uri": "https://localhost:8080/"
        },
        "id": "a4o3gj3RU8UD",
        "outputId": "10811a20-3206-4cac-b73b-65de48ba1516"
      },
      "execution_count": 10,
      "outputs": [
        {
          "output_type": "stream",
          "name": "stdout",
          "text": [
            "10000 x 10000  matrix:\n",
            "computation time =  1.6243939399719238  sec\n"
          ]
        }
      ]
    },
    {
      "cell_type": "markdown",
      "source": [
        "## Matrix multiplication"
      ],
      "metadata": {
        "id": "2RIcFEoKYl--"
      }
    },
    {
      "cell_type": "code",
      "source": [
        "n=2\n",
        "A = np.random.randint(-10,10,size=(n,n))\n",
        "B = np.random.randint(-10,10,size=(n,n))\n",
        "print('A=\\n',A)\n",
        "print('b=\\n',B)\n",
        "\n",
        "AB = np.matmul(A,B)\n",
        "print('AB=\\n',AB)\n"
      ],
      "metadata": {
        "colab": {
          "base_uri": "https://localhost:8080/"
        },
        "id": "Do_465dTZCUu",
        "outputId": "e64b318c-c044-4121-e702-78f6513890a1"
      },
      "execution_count": 11,
      "outputs": [
        {
          "output_type": "stream",
          "name": "stdout",
          "text": [
            "A=\n",
            " [[-7  7]\n",
            " [-9 -5]]\n",
            "b=\n",
            " [[ -1   6]\n",
            " [-10  -7]]\n",
            "AB=\n",
            " [[-63 -91]\n",
            " [ 59 -19]]\n"
          ]
        }
      ]
    },
    {
      "cell_type": "markdown",
      "source": [
        "### CPU를 사용한 AB computation (for large N)"
      ],
      "metadata": {
        "id": "UKj5JiGpaFB8"
      }
    },
    {
      "cell_type": "code",
      "source": [
        "N = 2000\n",
        "A = np.random.randint(-10,10,size=(N,N))\n",
        "B = np.random.randint(-10,10,size=(N,N))\n",
        "print('shape of A: ',A.shape)\n",
        "print('shape of B:',B.shape)\n",
        "\n",
        "s0 = time.time()\n",
        "AB = np.matmul(A, B)\n",
        "compu_time=time.time() - s0\n",
        "print('computation time = ', compu_time,' sec')"
      ],
      "metadata": {
        "colab": {
          "base_uri": "https://localhost:8080/"
        },
        "id": "jP2iVd0lYlGb",
        "outputId": "804fa6ce-d3b3-43ed-a5b5-b281a286d79b"
      },
      "execution_count": 12,
      "outputs": [
        {
          "output_type": "stream",
          "name": "stdout",
          "text": [
            "shape of A:  (2000, 2000)\n",
            "shape of B: (2000, 2000)\n",
            "computation time =  28.32030701637268  sec\n"
          ]
        }
      ]
    },
    {
      "cell_type": "markdown",
      "source": [
        "### GPU를 사용한 AB computation (for large N)"
      ],
      "metadata": {
        "id": "dwv7FGvxaPMa"
      }
    },
    {
      "cell_type": "code",
      "source": [
        "N = 2000\n",
        "A = cp.random.randint(-10,10,size=(N,N))\n",
        "B = cp.random.randint(-10,10,size=(N,N))\n",
        "print('shape of A: ',A.shape)\n",
        "print('shape of B:',B.shape)\n",
        "\n",
        "s0 = time.time()\n",
        "AB = cp.matmul(A, B)\n",
        "compu_time=time.time() - s0\n",
        "print('computation time = ', compu_time,' sec')"
      ],
      "metadata": {
        "colab": {
          "base_uri": "https://localhost:8080/"
        },
        "id": "zTlbtAAHYlQP",
        "outputId": "b704b73c-0a91-4600-df38-03701e3aff83"
      },
      "execution_count": 13,
      "outputs": [
        {
          "output_type": "stream",
          "name": "stdout",
          "text": [
            "shape of A:  (2000, 2000)\n",
            "shape of B: (2000, 2000)\n",
            "computation time =  0.0006377696990966797  sec\n"
          ]
        }
      ]
    },
    {
      "cell_type": "markdown",
      "source": [
        "### Exercise\n",
        "- N = 10, 100, 1000, 10000 인 경우 numpy로 Ax=b를 푸는 시간과 cupy로 Ax=b를 푸는데 걸리는 시간을 각각 5번씩 반복하여 측정하여 평균을 구해보기.\n",
        "- N = 2, 20, 200, 2000 인 경우 numpy로 AB를 계산하는 시간과 cupy로 AB를 계산하는 시간을 각각 5번씩 반복하여 측정하여 평균을 구해보기."
      ],
      "metadata": {
        "id": "W62q-sfqXq3o"
      }
    },
    {
      "cell_type": "code",
      "source": [],
      "metadata": {
        "id": "qJtCIg4aYe6P"
      },
      "execution_count": 9,
      "outputs": []
    }
  ]
}