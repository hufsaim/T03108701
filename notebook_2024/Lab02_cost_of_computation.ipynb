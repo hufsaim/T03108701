{
  "nbformat": 4,
  "nbformat_minor": 0,
  "metadata": {
    "colab": {
      "provenance": [],
      "gpuType": "T4",
      "authorship_tag": "ABX9TyP7+t98Vc7d//qJwn66Xu1/",
      "include_colab_link": true
    },
    "kernelspec": {
      "name": "python3",
      "display_name": "Python 3"
    },
    "language_info": {
      "name": "python"
    },
    "accelerator": "GPU"
  },
  "cells": [
    {
      "cell_type": "markdown",
      "metadata": {
        "id": "view-in-github",
        "colab_type": "text"
      },
      "source": [
        "<a href=\"https://colab.research.google.com/github/hufsaim/T03108701/blob/main/notebook_2024/Lab02_cost_of_computation.ipynb\" target=\"_parent\"><img src=\"https://colab.research.google.com/assets/colab-badge.svg\" alt=\"Open In Colab\"/></a>"
      ]
    },
    {
      "cell_type": "code",
      "execution_count": 1,
      "metadata": {
        "id": "pPB-G6TlUa6Z"
      },
      "outputs": [],
      "source": [
        "import numpy as np\n",
        "import cupy as cp\n",
        "import time"
      ]
    },
    {
      "cell_type": "markdown",
      "source": [
        "## Matrix A, vector b 정의하기 (numpy)"
      ],
      "metadata": {
        "id": "UhnSxe_JVzBf"
      }
    },
    {
      "cell_type": "code",
      "source": [
        "n=2\n",
        "A = np.random.randint(-10,10,size=(n,n))\n",
        "b = np.random.randint(-10,10,size=(n,1))\n",
        "print('A=\\n',A)\n",
        "print('b=\\n',b)"
      ],
      "metadata": {
        "colab": {
          "base_uri": "https://localhost:8080/"
        },
        "id": "gMUTs3hbUuJL",
        "outputId": "ed84fdd4-3e02-4881-b3e1-f529a3e9835a"
      },
      "execution_count": 2,
      "outputs": [
        {
          "output_type": "stream",
          "name": "stdout",
          "text": [
            "A=\n",
            " [[-8  7]\n",
            " [ 9 -4]]\n",
            "b=\n",
            " [[ 4]\n",
            " [-5]]\n"
          ]
        }
      ]
    },
    {
      "cell_type": "markdown",
      "source": [
        "## Ax = b 의 solution x를 계산하기 (numpy)"
      ],
      "metadata": {
        "id": "vCLjgv0KV2rs"
      }
    },
    {
      "cell_type": "code",
      "source": [
        "x = np.linalg.solve(A,b)\n",
        "print('solution of Ax = b: \\n',x)"
      ],
      "metadata": {
        "colab": {
          "base_uri": "https://localhost:8080/"
        },
        "id": "yXYXGQAaUwe7",
        "outputId": "9fb9e529-70c1-4df9-8a1c-cedbffda4160"
      },
      "execution_count": 3,
      "outputs": [
        {
          "output_type": "stream",
          "name": "stdout",
          "text": [
            "solution of Ax = b: \n",
            " [[-0.61290323]\n",
            " [-0.12903226]]\n"
          ]
        }
      ]
    },
    {
      "cell_type": "markdown",
      "source": [
        "## Matrix A, vector b를 정의하고 Ax = b의 solution x를 계산하기 (cupy - GPU활용)"
      ],
      "metadata": {
        "id": "dw4chJ35WW2C"
      }
    },
    {
      "cell_type": "code",
      "source": [
        "n = 2\n",
        "A = cp.random.randint(-10,10,size=(n,n))\n",
        "b = cp.random.randint(-10,10,size=(n,1))\n",
        "print('A=\\n',A)\n",
        "print('b=\\n',b)\n",
        "\n",
        "x = cp.linalg.solve(A,b)\n",
        "print('solution of Ax = b: \\n',x)"
      ],
      "metadata": {
        "colab": {
          "base_uri": "https://localhost:8080/"
        },
        "id": "DK9bMUquVQyT",
        "outputId": "da9b60ee-27e4-4054-c075-035c4d440a33"
      },
      "execution_count": 4,
      "outputs": [
        {
          "output_type": "stream",
          "name": "stdout",
          "text": [
            "A=\n",
            " [[-10  -8]\n",
            " [  8   0]]\n",
            "b=\n",
            " [[  3]\n",
            " [-10]]\n",
            "solution of Ax = b: \n",
            " [[-1.25  ]\n",
            " [ 1.1875]]\n"
          ]
        }
      ]
    },
    {
      "cell_type": "markdown",
      "source": [
        "## CPU를 사용한 풀이 (for large N)"
      ],
      "metadata": {
        "id": "ta6y_X-dVo0C"
      }
    },
    {
      "cell_type": "code",
      "source": [
        "N=10000\n",
        "print(N,'x',N,' matrix:')\n",
        "A = np.random.randint(-10,10,size=(N,N))\n",
        "b = np.random.randint(-10,10,size=(N,1))\n",
        "#print('\\ndet(A)=',np.linalg.det(A))\n",
        "\n",
        "s0 = time.time()\n",
        "x=np.linalg.solve(A,b)\n",
        "solve_time=time.time() -s0\n",
        "print('computation time = ',solve_time,' sec')"
      ],
      "metadata": {
        "colab": {
          "base_uri": "https://localhost:8080/"
        },
        "id": "hcuXsCmmUyyB",
        "outputId": "45219ebb-dffa-48c9-e8cb-909926787061"
      },
      "execution_count": 9,
      "outputs": [
        {
          "output_type": "stream",
          "name": "stdout",
          "text": [
            "10000 x 10000  matrix:\n",
            "computation time =  15.743062496185303  sec\n"
          ]
        }
      ]
    },
    {
      "cell_type": "markdown",
      "source": [
        "## GPU를 사용한 풀이 (for large N)\n",
        "\n"
      ],
      "metadata": {
        "id": "v5kEACgOVjAo"
      }
    },
    {
      "cell_type": "code",
      "source": [
        "N=10000\n",
        "print(N,'x',N,' matrix:')\n",
        "Ac = cp.random.randint(-10,10,size=(N,N))\n",
        "bc = cp.random.randint(-10,10,size=(N,1))\n",
        "#print('\\ndet(A)=',np.linalg.det(A))\n",
        "\n",
        "s0 = time.time()\n",
        "xc=cp.linalg.solve(Ac,bc)\n",
        "solve_time=time.time() -s0\n",
        "print('computation time = ',solve_time,' sec')"
      ],
      "metadata": {
        "colab": {
          "base_uri": "https://localhost:8080/"
        },
        "id": "a4o3gj3RU8UD",
        "outputId": "e64f110c-eed3-46a3-818f-7f674f61697b"
      },
      "execution_count": 10,
      "outputs": [
        {
          "output_type": "stream",
          "name": "stdout",
          "text": [
            "10000 x 10000  matrix:\n",
            "computation time =  1.6424784660339355  sec\n"
          ]
        }
      ]
    },
    {
      "cell_type": "code",
      "source": [],
      "metadata": {
        "id": "DeoSIXKXW-IQ"
      },
      "execution_count": null,
      "outputs": []
    }
  ]
}