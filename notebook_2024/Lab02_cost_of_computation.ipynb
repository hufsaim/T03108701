{
  "nbformat": 4,
  "nbformat_minor": 0,
  "metadata": {
    "colab": {
      "provenance": [],
      "gpuType": "T4",
      "authorship_tag": "ABX9TyNDaXm762Ec1/kLXDqsNlQ+",
      "include_colab_link": true
    },
    "kernelspec": {
      "name": "python3",
      "display_name": "Python 3"
    },
    "language_info": {
      "name": "python"
    },
    "accelerator": "GPU"
  },
  "cells": [
    {
      "cell_type": "markdown",
      "metadata": {
        "id": "view-in-github",
        "colab_type": "text"
      },
      "source": [
        "<a href=\"https://colab.research.google.com/github/hufsaim/T03108701/blob/main/notebook_2024/Lab02_cost_of_computation.ipynb\" target=\"_parent\"><img src=\"https://colab.research.google.com/assets/colab-badge.svg\" alt=\"Open In Colab\"/></a>"
      ]
    },
    {
      "cell_type": "code",
      "execution_count": 1,
      "metadata": {
        "id": "pPB-G6TlUa6Z"
      },
      "outputs": [],
      "source": [
        "import numpy as np\n",
        "import cupy as cp\n",
        "import time"
      ]
    },
    {
      "cell_type": "code",
      "source": [
        "!nvidia-smi"
      ],
      "metadata": {
        "colab": {
          "base_uri": "https://localhost:8080/"
        },
        "id": "fvR4HBwyecco",
        "outputId": "07a467a5-d35f-4c36-fe5b-8fdaf7b2c304"
      },
      "execution_count": 2,
      "outputs": [
        {
          "output_type": "stream",
          "name": "stdout",
          "text": [
            "Wed Sep 25 04:39:08 2024       \n",
            "+---------------------------------------------------------------------------------------+\n",
            "| NVIDIA-SMI 535.104.05             Driver Version: 535.104.05   CUDA Version: 12.2     |\n",
            "|-----------------------------------------+----------------------+----------------------+\n",
            "| GPU  Name                 Persistence-M | Bus-Id        Disp.A | Volatile Uncorr. ECC |\n",
            "| Fan  Temp   Perf          Pwr:Usage/Cap |         Memory-Usage | GPU-Util  Compute M. |\n",
            "|                                         |                      |               MIG M. |\n",
            "|=========================================+======================+======================|\n",
            "|   0  Tesla T4                       Off | 00000000:00:04.0 Off |                    0 |\n",
            "| N/A   73C    P8              14W /  70W |      0MiB / 15360MiB |      0%      Default |\n",
            "|                                         |                      |                  N/A |\n",
            "+-----------------------------------------+----------------------+----------------------+\n",
            "                                                                                         \n",
            "+---------------------------------------------------------------------------------------+\n",
            "| Processes:                                                                            |\n",
            "|  GPU   GI   CI        PID   Type   Process name                            GPU Memory |\n",
            "|        ID   ID                                                             Usage      |\n",
            "|=======================================================================================|\n",
            "|  No running processes found                                                           |\n",
            "+---------------------------------------------------------------------------------------+\n"
          ]
        }
      ]
    },
    {
      "cell_type": "markdown",
      "source": [
        "### Matrix A, vector b 정의하기 (numpy)"
      ],
      "metadata": {
        "id": "UhnSxe_JVzBf"
      }
    },
    {
      "cell_type": "code",
      "source": [
        "n=2\n",
        "A = np.random.randint(-10,10,size=(n,n))\n",
        "b = np.random.randint(-10,10,size=(n,1))\n",
        "print('A=\\n',A)\n",
        "print('b=\\n',b)"
      ],
      "metadata": {
        "colab": {
          "base_uri": "https://localhost:8080/"
        },
        "id": "gMUTs3hbUuJL",
        "outputId": "2dad65bf-2fbf-42c3-ee4e-35555e5f145b"
      },
      "execution_count": 3,
      "outputs": [
        {
          "output_type": "stream",
          "name": "stdout",
          "text": [
            "A=\n",
            " [[ 9 -2]\n",
            " [ 3  2]]\n",
            "b=\n",
            " [[-6]\n",
            " [ 1]]\n"
          ]
        }
      ]
    },
    {
      "cell_type": "markdown",
      "source": [
        "### Ax = b 의 solution x를 계산하기 (numpy)"
      ],
      "metadata": {
        "id": "vCLjgv0KV2rs"
      }
    },
    {
      "cell_type": "code",
      "source": [
        "x = np.linalg.solve(A,b)\n",
        "print('solution of Ax = b: \\n',x)"
      ],
      "metadata": {
        "colab": {
          "base_uri": "https://localhost:8080/"
        },
        "id": "yXYXGQAaUwe7",
        "outputId": "3a18f091-e7d7-4619-d908-e558b779120d"
      },
      "execution_count": 4,
      "outputs": [
        {
          "output_type": "stream",
          "name": "stdout",
          "text": [
            "solution of Ax = b: \n",
            " [[-0.41666667]\n",
            " [ 1.125     ]]\n"
          ]
        }
      ]
    },
    {
      "cell_type": "markdown",
      "source": [
        "### Matrix A, vector b를 정의하고 Ax = b의 solution x를 계산하기 (cupy - GPU활용)"
      ],
      "metadata": {
        "id": "dw4chJ35WW2C"
      }
    },
    {
      "cell_type": "code",
      "source": [
        "n = 2\n",
        "A = cp.random.randint(-10,10,size=(n,n))\n",
        "b = cp.random.randint(-10,10,size=(n,1))\n",
        "print('A=\\n',A)\n",
        "print('b=\\n',b)\n",
        "\n",
        "x = cp.linalg.solve(A,b)\n",
        "print('solution of Ax = b: \\n',x)"
      ],
      "metadata": {
        "colab": {
          "base_uri": "https://localhost:8080/"
        },
        "id": "DK9bMUquVQyT",
        "outputId": "55727bf4-a9e9-4fc6-8e9a-69c14b31f754"
      },
      "execution_count": 5,
      "outputs": [
        {
          "output_type": "stream",
          "name": "stdout",
          "text": [
            "A=\n",
            " [[ -3  -3]\n",
            " [-10   4]]\n",
            "b=\n",
            " [[-2]\n",
            " [ 2]]\n",
            "solution of Ax = b: \n",
            " [[0.04761905]\n",
            " [0.61904762]]\n"
          ]
        }
      ]
    },
    {
      "cell_type": "markdown",
      "source": [
        "### CPU를 사용한 풀이 (for large N)"
      ],
      "metadata": {
        "id": "ta6y_X-dVo0C"
      }
    },
    {
      "cell_type": "code",
      "source": [
        "N=10000\n",
        "print(N,'x',N,' matrix:')\n",
        "A = np.random.randint(-10,10,size=(N,N))\n",
        "b = np.random.randint(-10,10,size=(N,1))\n",
        "#print('\\ndet(A)=',np.linalg.det(A))\n",
        "\n",
        "s0 = time.time()\n",
        "x=np.linalg.solve(A,b)\n",
        "solve_time=time.time() -s0\n",
        "print('computation time = ',solve_time,' sec')"
      ],
      "metadata": {
        "colab": {
          "base_uri": "https://localhost:8080/"
        },
        "id": "hcuXsCmmUyyB",
        "outputId": "e3fd41af-c81b-496d-a826-1d8b9aa0b303"
      },
      "execution_count": 11,
      "outputs": [
        {
          "output_type": "stream",
          "name": "stdout",
          "text": [
            "10000 x 10000  matrix:\n",
            "computation time =  16.060715436935425  sec\n"
          ]
        }
      ]
    },
    {
      "cell_type": "markdown",
      "source": [
        "### GPU를 사용한 풀이 (for large N)\n",
        "\n"
      ],
      "metadata": {
        "id": "v5kEACgOVjAo"
      }
    },
    {
      "cell_type": "code",
      "source": [
        "N=10000\n",
        "print(N,'x',N,' matrix:')\n",
        "Ac = cp.random.randint(-10,10,size=(N,N))\n",
        "bc = cp.random.randint(-10,10,size=(N,1))\n",
        "#print('\\ndet(A)=',np.linalg.det(A))\n",
        "\n",
        "s0 = time.time()\n",
        "xc=cp.linalg.solve(Ac,bc)\n",
        "solve_time=time.time() -s0\n",
        "print('computation time = ',solve_time,' sec')"
      ],
      "metadata": {
        "colab": {
          "base_uri": "https://localhost:8080/"
        },
        "id": "a4o3gj3RU8UD",
        "outputId": "6a955b68-5bfe-4685-82f8-2ecb0572f531"
      },
      "execution_count": 12,
      "outputs": [
        {
          "output_type": "stream",
          "name": "stdout",
          "text": [
            "10000 x 10000  matrix:\n",
            "computation time =  1.6484434604644775  sec\n"
          ]
        }
      ]
    },
    {
      "cell_type": "markdown",
      "source": [
        "## Matrix multiplication"
      ],
      "metadata": {
        "id": "2RIcFEoKYl--"
      }
    },
    {
      "cell_type": "code",
      "source": [
        "n=2\n",
        "A = np.random.randint(-10,10,size=(n,n))\n",
        "B = np.random.randint(-10,10,size=(n,n))\n",
        "print('A=\\n',A)\n",
        "print('B=\\n',B)\n",
        "\n",
        "AB = np.matmul(A,B)\n",
        "print('AB=\\n',AB)\n"
      ],
      "metadata": {
        "colab": {
          "base_uri": "https://localhost:8080/"
        },
        "id": "Do_465dTZCUu",
        "outputId": "8ef18c41-95a0-47b4-e1a9-0382837a9298"
      },
      "execution_count": 13,
      "outputs": [
        {
          "output_type": "stream",
          "name": "stdout",
          "text": [
            "A=\n",
            " [[-7  4]\n",
            " [ 8  7]]\n",
            "B=\n",
            " [[ 1 -5]\n",
            " [ 6  2]]\n",
            "AB=\n",
            " [[ 17  43]\n",
            " [ 50 -26]]\n"
          ]
        }
      ]
    },
    {
      "cell_type": "markdown",
      "source": [
        "### CPU를 사용한 AB computation (for large N)"
      ],
      "metadata": {
        "id": "UKj5JiGpaFB8"
      }
    },
    {
      "cell_type": "code",
      "source": [
        "N = 2000\n",
        "A = np.random.randint(-10,10,size=(N,N))\n",
        "B = np.random.randint(-10,10,size=(N,N))\n",
        "print('shape of A: ',A.shape)\n",
        "print('shape of B:',B.shape)\n",
        "\n",
        "s0 = time.time()\n",
        "AB = np.matmul(A, B)\n",
        "compu_time=time.time() - s0\n",
        "print('computation time = ', compu_time,' sec')"
      ],
      "metadata": {
        "colab": {
          "base_uri": "https://localhost:8080/"
        },
        "id": "jP2iVd0lYlGb",
        "outputId": "402ba498-387e-4be8-d10a-e2f9b38ce467"
      },
      "execution_count": 14,
      "outputs": [
        {
          "output_type": "stream",
          "name": "stdout",
          "text": [
            "shape of A:  (2000, 2000)\n",
            "shape of B: (2000, 2000)\n",
            "computation time =  12.188165664672852  sec\n"
          ]
        }
      ]
    },
    {
      "cell_type": "markdown",
      "source": [
        "### GPU를 사용한 AB computation (for large N)"
      ],
      "metadata": {
        "id": "dwv7FGvxaPMa"
      }
    },
    {
      "cell_type": "code",
      "source": [
        "N = 2000\n",
        "A = cp.random.randint(-10,10,size=(N,N))\n",
        "B = cp.random.randint(-10,10,size=(N,N))\n",
        "print('shape of A: ',A.shape)\n",
        "print('shape of B:',B.shape)\n",
        "\n",
        "s0 = time.time()\n",
        "AB = cp.matmul(A, B)\n",
        "compu_time=time.time() - s0\n",
        "print('computation time = ', compu_time,' sec')"
      ],
      "metadata": {
        "colab": {
          "base_uri": "https://localhost:8080/"
        },
        "id": "zTlbtAAHYlQP",
        "outputId": "59f198a7-7b49-46f9-b690-87cb9f05ff0a"
      },
      "execution_count": 15,
      "outputs": [
        {
          "output_type": "stream",
          "name": "stdout",
          "text": [
            "shape of A:  (2000, 2000)\n",
            "shape of B: (2000, 2000)\n",
            "computation time =  0.00041484832763671875  sec\n"
          ]
        }
      ]
    },
    {
      "cell_type": "markdown",
      "source": [
        "### Exercise\n",
        "- N = 10, 100, 1000, 10000 인 경우 numpy로 Ax=b를 푸는 시간과 cupy로 Ax=b를 푸는데 걸리는 시간을 각각 5번씩 반복하여 측정하여 평균을 구해보기.\n",
        "- N = 2, 20, 200, 2000 인 경우 numpy로 AB를 계산하는 시간과 cupy로 AB를 계산하는 시간을 각각 5번씩 반복하여 측정하여 평균을 구해보기."
      ],
      "metadata": {
        "id": "W62q-sfqXq3o"
      }
    },
    {
      "cell_type": "code",
      "source": [],
      "metadata": {
        "id": "qJtCIg4aYe6P"
      },
      "execution_count": 9,
      "outputs": []
    }
  ]
}