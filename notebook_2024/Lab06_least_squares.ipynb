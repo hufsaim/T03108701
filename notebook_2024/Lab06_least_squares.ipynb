{
  "nbformat": 4,
  "nbformat_minor": 0,
  "metadata": {
    "colab": {
      "provenance": [],
      "authorship_tag": "ABX9TyPOB/eCZi5sCgG8h1vzKj87",
      "include_colab_link": true
    },
    "kernelspec": {
      "name": "python3",
      "display_name": "Python 3"
    },
    "language_info": {
      "name": "python"
    }
  },
  "cells": [
    {
      "cell_type": "markdown",
      "metadata": {
        "id": "view-in-github",
        "colab_type": "text"
      },
      "source": [
        "<a href=\"https://colab.research.google.com/github/hufsaim/T03108701/blob/main/notebook_2024/Lab06_least_squares.ipynb\" target=\"_parent\"><img src=\"https://colab.research.google.com/assets/colab-badge.svg\" alt=\"Open In Colab\"/></a>"
      ]
    },
    {
      "cell_type": "markdown",
      "metadata": {
        "id": "JGT29R9_nfBV"
      },
      "source": [
        "# Least Squares Approximation\n",
        "- 측정데이터 (t,b)에 대한 1차 함수 b = C + Dt 를 least squares approximation을 통하여 구해보는 실습입니다.\n",
        "- 우리는 projection을 통해 least squares error를 최소로 만들어 주는 (C, D)를 구할 수가 있습니다.\n",
        "- 주어진 데이터쌍 (t,b)로부터 linear equation Ax = b 를 구성하고, least squares error를 최소로 만드는 vector p 를 만들어주는 x를 구합니다.\n",
        "\n",
        "\n",
        "\n",
        "\n",
        "\n"
      ]
    },
    {
      "cell_type": "code",
      "metadata": {
        "id": "Qf1KEZqMiAS1"
      },
      "source": [
        "import numpy as np\n",
        "import matplotlib.pyplot as plt\n",
        "import pandas as pd"
      ],
      "execution_count": null,
      "outputs": []
    },
    {
      "cell_type": "markdown",
      "metadata": {
        "id": "iXE26pM9okHq"
      },
      "source": [
        "- 실습에 사용하기 위한 csv파일을 불러와서 data를 관찰합니다."
      ]
    },
    {
      "cell_type": "code",
      "metadata": {
        "colab": {
          "base_uri": "https://localhost:8080/",
          "height": 419
        },
        "id": "ZQBehODLiDft",
        "outputId": "9c88d490-c8a1-49ee-9052-b0efc6ce3e3e"
      },
      "source": [
        "data = pd.read_csv('https://raw.githubusercontent.com/hufsbme/T03108701/master/ch4/headbrain.csv')\n",
        "data"
      ],
      "execution_count": null,
      "outputs": [
        {
          "output_type": "execute_result",
          "data": {
            "text/html": [
              "<div>\n",
              "<style scoped>\n",
              "    .dataframe tbody tr th:only-of-type {\n",
              "        vertical-align: middle;\n",
              "    }\n",
              "\n",
              "    .dataframe tbody tr th {\n",
              "        vertical-align: top;\n",
              "    }\n",
              "\n",
              "    .dataframe thead th {\n",
              "        text-align: right;\n",
              "    }\n",
              "</style>\n",
              "<table border=\"1\" class=\"dataframe\">\n",
              "  <thead>\n",
              "    <tr style=\"text-align: right;\">\n",
              "      <th></th>\n",
              "      <th>Gender</th>\n",
              "      <th>Age Range</th>\n",
              "      <th>Head Size(cm^3)</th>\n",
              "      <th>Brain Weight(grams)</th>\n",
              "    </tr>\n",
              "  </thead>\n",
              "  <tbody>\n",
              "    <tr>\n",
              "      <th>0</th>\n",
              "      <td>1</td>\n",
              "      <td>1</td>\n",
              "      <td>4512</td>\n",
              "      <td>1530</td>\n",
              "    </tr>\n",
              "    <tr>\n",
              "      <th>1</th>\n",
              "      <td>1</td>\n",
              "      <td>1</td>\n",
              "      <td>3738</td>\n",
              "      <td>1297</td>\n",
              "    </tr>\n",
              "    <tr>\n",
              "      <th>2</th>\n",
              "      <td>1</td>\n",
              "      <td>1</td>\n",
              "      <td>4261</td>\n",
              "      <td>1335</td>\n",
              "    </tr>\n",
              "    <tr>\n",
              "      <th>3</th>\n",
              "      <td>1</td>\n",
              "      <td>1</td>\n",
              "      <td>3777</td>\n",
              "      <td>1282</td>\n",
              "    </tr>\n",
              "    <tr>\n",
              "      <th>4</th>\n",
              "      <td>1</td>\n",
              "      <td>1</td>\n",
              "      <td>4177</td>\n",
              "      <td>1590</td>\n",
              "    </tr>\n",
              "    <tr>\n",
              "      <th>...</th>\n",
              "      <td>...</td>\n",
              "      <td>...</td>\n",
              "      <td>...</td>\n",
              "      <td>...</td>\n",
              "    </tr>\n",
              "    <tr>\n",
              "      <th>232</th>\n",
              "      <td>2</td>\n",
              "      <td>2</td>\n",
              "      <td>3214</td>\n",
              "      <td>1110</td>\n",
              "    </tr>\n",
              "    <tr>\n",
              "      <th>233</th>\n",
              "      <td>2</td>\n",
              "      <td>2</td>\n",
              "      <td>3394</td>\n",
              "      <td>1215</td>\n",
              "    </tr>\n",
              "    <tr>\n",
              "      <th>234</th>\n",
              "      <td>2</td>\n",
              "      <td>2</td>\n",
              "      <td>3233</td>\n",
              "      <td>1104</td>\n",
              "    </tr>\n",
              "    <tr>\n",
              "      <th>235</th>\n",
              "      <td>2</td>\n",
              "      <td>2</td>\n",
              "      <td>3352</td>\n",
              "      <td>1170</td>\n",
              "    </tr>\n",
              "    <tr>\n",
              "      <th>236</th>\n",
              "      <td>2</td>\n",
              "      <td>2</td>\n",
              "      <td>3391</td>\n",
              "      <td>1120</td>\n",
              "    </tr>\n",
              "  </tbody>\n",
              "</table>\n",
              "<p>237 rows × 4 columns</p>\n",
              "</div>"
            ],
            "text/plain": [
              "     Gender  Age Range  Head Size(cm^3)  Brain Weight(grams)\n",
              "0         1          1             4512                 1530\n",
              "1         1          1             3738                 1297\n",
              "2         1          1             4261                 1335\n",
              "3         1          1             3777                 1282\n",
              "4         1          1             4177                 1590\n",
              "..      ...        ...              ...                  ...\n",
              "232       2          2             3214                 1110\n",
              "233       2          2             3394                 1215\n",
              "234       2          2             3233                 1104\n",
              "235       2          2             3352                 1170\n",
              "236       2          2             3391                 1120\n",
              "\n",
              "[237 rows x 4 columns]"
            ]
          },
          "metadata": {
            "tags": []
          },
          "execution_count": 2
        }
      ]
    },
    {
      "cell_type": "markdown",
      "metadata": {
        "id": "ji8p4EjFovIl"
      },
      "source": [
        "- t, b에 data의 column을 입력하고, plot을 하여 t와 b의 관계를 관찰합니다."
      ]
    },
    {
      "cell_type": "code",
      "metadata": {
        "colab": {
          "base_uri": "https://localhost:8080/",
          "height": 283
        },
        "id": "b9Qu3d5WiFZp",
        "outputId": "30bd2a54-af65-4940-b8fb-c1854bf08a92"
      },
      "source": [
        "t = data.iloc[:,2]\n",
        "b = data.iloc[:,3]\n",
        "plt.scatter(t,b)\n",
        "plt.xlabel(data.columns[2])\n",
        "plt.ylabel(data.columns[3])\n",
        "plt.xlim([2500,5000])\n",
        "plt.ylim([800,1800])\n",
        "plt.grid(True)\n",
        "plt.show()"
      ],
      "execution_count": null,
      "outputs": [
        {
          "output_type": "display_data",
          "data": {
            "image/png": "[encoded data removed]",
            "text/plain": [
              "<Figure size 432x288 with 1 Axes>"
            ]
          },
          "metadata": {
            "tags": [],
            "needs_background": "light"
          }
        }
      ]
    },
    {
      "cell_type": "markdown",
      "metadata": {
        "id": "p8kDlpZ3o5nM"
      },
      "source": [
        "- b vector의 shape을 확인합니다."
      ]
    },
    {
      "cell_type": "code",
      "metadata": {
        "colab": {
          "base_uri": "https://localhost:8080/"
        },
        "id": "5bvycQ3UmTD4",
        "outputId": "792bffd4-1872-4d9d-9cd6-e55c1408cea7"
      },
      "source": [
        "b=np.array(b)\n",
        "b=b.reshape((len(b),1))\n",
        "print(b.shape)"
      ],
      "execution_count": null,
      "outputs": [
        {
          "output_type": "stream",
          "text": [
            "(237, 1)\n"
          ],
          "name": "stdout"
        }
      ]
    },
    {
      "cell_type": "markdown",
      "metadata": {
        "id": "TKmJ4BnEo-b2"
      },
      "source": [
        "- matrix A를 정의합니다. A의 첫 번째 column은 모두 1이 되게 하고, 두 번째 column은 t를 넣도록 합니다.\n",
        "- A의 shape을 확인해 봅니다."
      ]
    },
    {
      "cell_type": "code",
      "metadata": {
        "colab": {
          "base_uri": "https://localhost:8080/"
        },
        "id": "k3VON02tiJNS",
        "outputId": "44a7c1d3-ed9b-4264-e8ec-a90f008a95de"
      },
      "source": [
        "A = np.ones([len(data),2])\n",
        "A[:,1] = t\n",
        "print(A.shape)"
      ],
      "execution_count": null,
      "outputs": [
        {
          "output_type": "stream",
          "text": [
            "(237, 2)\n"
          ],
          "name": "stdout"
        }
      ]
    },
    {
      "cell_type": "markdown",
      "metadata": {
        "id": "wXkZRlGWpXfX"
      },
      "source": [
        "- Matrix A가 제대로 구성되었는지 확인해봅니다."
      ]
    },
    {
      "cell_type": "code",
      "metadata": {
        "colab": {
          "base_uri": "https://localhost:8080/"
        },
        "id": "Lk66gHMRiP_0",
        "outputId": "0cb3acfd-6fe4-44ee-e276-02e63ad55e5d"
      },
      "source": [
        "print('A=')\n",
        "print(A)"
      ],
      "execution_count": null,
      "outputs": [
        {
          "output_type": "stream",
          "text": [
            "A=\n",
            "[[1.000e+00 4.512e+03]\n",
            " [1.000e+00 3.738e+03]\n",
            " [1.000e+00 4.261e+03]\n",
            " [1.000e+00 3.777e+03]\n",
            " [1.000e+00 4.177e+03]\n",
            " [1.000e+00 3.585e+03]\n",
            " [1.000e+00 3.785e+03]\n",
            " [1.000e+00 3.559e+03]\n",
            " [1.000e+00 3.613e+03]\n",
            " [1.000e+00 3.982e+03]\n",
            " [1.000e+00 3.443e+03]\n",
            " [1.000e+00 3.993e+03]\n",
            " [1.000e+00 3.640e+03]\n",
            " [1.000e+00 4.208e+03]\n",
            " [1.000e+00 3.832e+03]\n",
            " [1.000e+00 3.876e+03]\n",
            " [1.000e+00 3.497e+03]\n",
            " [1.000e+00 3.466e+03]\n",
            " [1.000e+00 3.095e+03]\n",
            " [1.000e+00 4.424e+03]\n",
            " [1.000e+00 3.878e+03]\n",
            " [1.000e+00 4.046e+03]\n",
            " [1.000e+00 3.804e+03]\n",
            " [1.000e+00 3.710e+03]\n",
            " [1.000e+00 4.747e+03]\n",
            " [1.000e+00 4.423e+03]\n",
            " [1.000e+00 4.036e+03]\n",
            " [1.000e+00 4.022e+03]\n",
            " [1.000e+00 3.454e+03]\n",
            " [1.000e+00 4.175e+03]\n",
            " [1.000e+00 3.787e+03]\n",
            " [1.000e+00 3.796e+03]\n",
            " [1.000e+00 4.103e+03]\n",
            " [1.000e+00 4.161e+03]\n",
            " [1.000e+00 4.158e+03]\n",
            " [1.000e+00 3.814e+03]\n",
            " [1.000e+00 3.527e+03]\n",
            " [1.000e+00 3.748e+03]\n",
            " [1.000e+00 3.334e+03]\n",
            " [1.000e+00 3.492e+03]\n",
            " [1.000e+00 3.962e+03]\n",
            " [1.000e+00 3.505e+03]\n",
            " [1.000e+00 4.315e+03]\n",
            " [1.000e+00 3.804e+03]\n",
            " [1.000e+00 3.863e+03]\n",
            " [1.000e+00 4.034e+03]\n",
            " [1.000e+00 4.308e+03]\n",
            " [1.000e+00 3.165e+03]\n",
            " [1.000e+00 3.641e+03]\n",
            " [1.000e+00 3.644e+03]\n",
            " [1.000e+00 3.891e+03]\n",
            " [1.000e+00 3.793e+03]\n",
            " [1.000e+00 4.270e+03]\n",
            " [1.000e+00 4.063e+03]\n",
            " [1.000e+00 4.012e+03]\n",
            " [1.000e+00 3.458e+03]\n",
            " [1.000e+00 3.890e+03]\n",
            " [1.000e+00 4.166e+03]\n",
            " [1.000e+00 3.935e+03]\n",
            " [1.000e+00 3.669e+03]\n",
            " [1.000e+00 3.866e+03]\n",
            " [1.000e+00 3.393e+03]\n",
            " [1.000e+00 4.442e+03]\n",
            " [1.000e+00 4.253e+03]\n",
            " [1.000e+00 3.727e+03]\n",
            " [1.000e+00 3.329e+03]\n",
            " [1.000e+00 3.415e+03]\n",
            " [1.000e+00 3.372e+03]\n",
            " [1.000e+00 4.430e+03]\n",
            " [1.000e+00 4.381e+03]\n",
            " [1.000e+00 4.008e+03]\n",
            " [1.000e+00 3.858e+03]\n",
            " [1.000e+00 4.121e+03]\n",
            " [1.000e+00 4.057e+03]\n",
            " [1.000e+00 3.824e+03]\n",
            " [1.000e+00 3.394e+03]\n",
            " [1.000e+00 3.558e+03]\n",
            " [1.000e+00 3.362e+03]\n",
            " [1.000e+00 3.930e+03]\n",
            " [1.000e+00 3.835e+03]\n",
            " [1.000e+00 3.830e+03]\n",
            " [1.000e+00 3.856e+03]\n",
            " [1.000e+00 3.249e+03]\n",
            " [1.000e+00 3.577e+03]\n",
            " [1.000e+00 3.933e+03]\n",
            " [1.000e+00 3.850e+03]\n",
            " [1.000e+00 3.309e+03]\n",
            " [1.000e+00 3.406e+03]\n",
            " [1.000e+00 3.506e+03]\n",
            " [1.000e+00 3.907e+03]\n",
            " [1.000e+00 4.160e+03]\n",
            " [1.000e+00 3.318e+03]\n",
            " [1.000e+00 3.662e+03]\n",
            " [1.000e+00 3.899e+03]\n",
            " [1.000e+00 3.700e+03]\n",
            " [1.000e+00 3.779e+03]\n",
            " [1.000e+00 3.473e+03]\n",
            " [1.000e+00 3.490e+03]\n",
            " [1.000e+00 3.654e+03]\n",
            " [1.000e+00 3.478e+03]\n",
            " [1.000e+00 3.495e+03]\n",
            " [1.000e+00 3.834e+03]\n",
            " [1.000e+00 3.876e+03]\n",
            " [1.000e+00 3.661e+03]\n",
            " [1.000e+00 3.618e+03]\n",
            " [1.000e+00 3.648e+03]\n",
            " [1.000e+00 4.032e+03]\n",
            " [1.000e+00 3.399e+03]\n",
            " [1.000e+00 3.916e+03]\n",
            " [1.000e+00 4.430e+03]\n",
            " [1.000e+00 3.695e+03]\n",
            " [1.000e+00 3.524e+03]\n",
            " [1.000e+00 3.571e+03]\n",
            " [1.000e+00 3.594e+03]\n",
            " [1.000e+00 3.383e+03]\n",
            " [1.000e+00 3.499e+03]\n",
            " [1.000e+00 3.589e+03]\n",
            " [1.000e+00 3.900e+03]\n",
            " [1.000e+00 4.114e+03]\n",
            " [1.000e+00 3.937e+03]\n",
            " [1.000e+00 3.399e+03]\n",
            " [1.000e+00 4.200e+03]\n",
            " [1.000e+00 4.488e+03]\n",
            " [1.000e+00 3.614e+03]\n",
            " [1.000e+00 4.051e+03]\n",
            " [1.000e+00 3.782e+03]\n",
            " [1.000e+00 3.391e+03]\n",
            " [1.000e+00 3.124e+03]\n",
            " [1.000e+00 4.053e+03]\n",
            " [1.000e+00 3.582e+03]\n",
            " [1.000e+00 3.666e+03]\n",
            " [1.000e+00 3.532e+03]\n",
            " [1.000e+00 4.046e+03]\n",
            " [1.000e+00 3.667e+03]\n",
            " [1.000e+00 2.857e+03]\n",
            " [1.000e+00 3.436e+03]\n",
            " [1.000e+00 3.791e+03]\n",
            " [1.000e+00 3.302e+03]\n",
            " [1.000e+00 3.104e+03]\n",
            " [1.000e+00 3.171e+03]\n",
            " [1.000e+00 3.572e+03]\n",
            " [1.000e+00 3.530e+03]\n",
            " [1.000e+00 3.175e+03]\n",
            " [1.000e+00 3.438e+03]\n",
            " [1.000e+00 3.903e+03]\n",
            " [1.000e+00 3.899e+03]\n",
            " [1.000e+00 3.401e+03]\n",
            " [1.000e+00 3.267e+03]\n",
            " [1.000e+00 3.451e+03]\n",
            " [1.000e+00 3.090e+03]\n",
            " [1.000e+00 3.413e+03]\n",
            " [1.000e+00 3.323e+03]\n",
            " [1.000e+00 3.680e+03]\n",
            " [1.000e+00 3.439e+03]\n",
            " [1.000e+00 3.853e+03]\n",
            " [1.000e+00 3.156e+03]\n",
            " [1.000e+00 3.279e+03]\n",
            " [1.000e+00 3.707e+03]\n",
            " [1.000e+00 4.006e+03]\n",
            " [1.000e+00 3.269e+03]\n",
            " [1.000e+00 3.071e+03]\n",
            " [1.000e+00 3.779e+03]\n",
            " [1.000e+00 3.548e+03]\n",
            " [1.000e+00 3.292e+03]\n",
            " [1.000e+00 3.497e+03]\n",
            " [1.000e+00 3.082e+03]\n",
            " [1.000e+00 3.248e+03]\n",
            " [1.000e+00 3.358e+03]\n",
            " [1.000e+00 3.803e+03]\n",
            " [1.000e+00 3.566e+03]\n",
            " [1.000e+00 3.145e+03]\n",
            " [1.000e+00 3.503e+03]\n",
            " [1.000e+00 3.571e+03]\n",
            " [1.000e+00 3.724e+03]\n",
            " [1.000e+00 3.615e+03]\n",
            " [1.000e+00 3.203e+03]\n",
            " [1.000e+00 3.609e+03]\n",
            " [1.000e+00 3.561e+03]\n",
            " [1.000e+00 3.979e+03]\n",
            " [1.000e+00 3.533e+03]\n",
            " [1.000e+00 3.689e+03]\n",
            " [1.000e+00 3.158e+03]\n",
            " [1.000e+00 4.005e+03]\n",
            " [1.000e+00 3.181e+03]\n",
            " [1.000e+00 3.479e+03]\n",
            " [1.000e+00 3.642e+03]\n",
            " [1.000e+00 3.632e+03]\n",
            " [1.000e+00 3.069e+03]\n",
            " [1.000e+00 3.394e+03]\n",
            " [1.000e+00 3.703e+03]\n",
            " [1.000e+00 3.165e+03]\n",
            " [1.000e+00 3.354e+03]\n",
            " [1.000e+00 3.000e+03]\n",
            " [1.000e+00 3.687e+03]\n",
            " [1.000e+00 3.556e+03]\n",
            " [1.000e+00 2.773e+03]\n",
            " [1.000e+00 3.058e+03]\n",
            " [1.000e+00 3.344e+03]\n",
            " [1.000e+00 3.493e+03]\n",
            " [1.000e+00 3.297e+03]\n",
            " [1.000e+00 3.360e+03]\n",
            " [1.000e+00 3.228e+03]\n",
            " [1.000e+00 3.277e+03]\n",
            " [1.000e+00 3.851e+03]\n",
            " [1.000e+00 3.067e+03]\n",
            " [1.000e+00 3.692e+03]\n",
            " [1.000e+00 3.402e+03]\n",
            " [1.000e+00 3.995e+03]\n",
            " [1.000e+00 3.318e+03]\n",
            " [1.000e+00 2.720e+03]\n",
            " [1.000e+00 2.937e+03]\n",
            " [1.000e+00 3.580e+03]\n",
            " [1.000e+00 2.939e+03]\n",
            " [1.000e+00 2.989e+03]\n",
            " [1.000e+00 3.586e+03]\n",
            " [1.000e+00 3.156e+03]\n",
            " [1.000e+00 3.246e+03]\n",
            " [1.000e+00 3.170e+03]\n",
            " [1.000e+00 3.268e+03]\n",
            " [1.000e+00 3.389e+03]\n",
            " [1.000e+00 3.381e+03]\n",
            " [1.000e+00 2.864e+03]\n",
            " [1.000e+00 3.740e+03]\n",
            " [1.000e+00 3.479e+03]\n",
            " [1.000e+00 3.647e+03]\n",
            " [1.000e+00 3.716e+03]\n",
            " [1.000e+00 3.284e+03]\n",
            " [1.000e+00 4.204e+03]\n",
            " [1.000e+00 3.735e+03]\n",
            " [1.000e+00 3.218e+03]\n",
            " [1.000e+00 3.685e+03]\n",
            " [1.000e+00 3.704e+03]\n",
            " [1.000e+00 3.214e+03]\n",
            " [1.000e+00 3.394e+03]\n",
            " [1.000e+00 3.233e+03]\n",
            " [1.000e+00 3.352e+03]\n",
            " [1.000e+00 3.391e+03]]\n"
          ],
          "name": "stdout"
        }
      ]
    },
    {
      "cell_type": "markdown",
      "metadata": {
        "id": "P4b9fjl8pa4e"
      },
      "source": [
        "- Vector b가 제대로 구성되었는지 확인해 봅니다."
      ]
    },
    {
      "cell_type": "code",
      "metadata": {
        "colab": {
          "base_uri": "https://localhost:8080/"
        },
        "id": "a4a_3fK9iYGW",
        "outputId": "c6a62ff8-3226-47a2-eefb-3df6d0ff0ee4"
      },
      "source": [
        "print('b=')\n",
        "print(b)"
      ],
      "execution_count": null,
      "outputs": [
        {
          "output_type": "stream",
          "text": [
            "b=\n",
            "[[1530]\n",
            " [1297]\n",
            " [1335]\n",
            " [1282]\n",
            " [1590]\n",
            " [1300]\n",
            " [1400]\n",
            " [1255]\n",
            " [1355]\n",
            " [1375]\n",
            " [1340]\n",
            " [1380]\n",
            " [1355]\n",
            " [1522]\n",
            " [1208]\n",
            " [1405]\n",
            " [1358]\n",
            " [1292]\n",
            " [1340]\n",
            " [1400]\n",
            " [1357]\n",
            " [1287]\n",
            " [1275]\n",
            " [1270]\n",
            " [1635]\n",
            " [1505]\n",
            " [1490]\n",
            " [1485]\n",
            " [1310]\n",
            " [1420]\n",
            " [1318]\n",
            " [1432]\n",
            " [1364]\n",
            " [1405]\n",
            " [1432]\n",
            " [1207]\n",
            " [1375]\n",
            " [1350]\n",
            " [1236]\n",
            " [1250]\n",
            " [1350]\n",
            " [1320]\n",
            " [1525]\n",
            " [1570]\n",
            " [1340]\n",
            " [1422]\n",
            " [1506]\n",
            " [1215]\n",
            " [1311]\n",
            " [1300]\n",
            " [1224]\n",
            " [1350]\n",
            " [1335]\n",
            " [1390]\n",
            " [1400]\n",
            " [1225]\n",
            " [1310]\n",
            " [1560]\n",
            " [1330]\n",
            " [1222]\n",
            " [1415]\n",
            " [1175]\n",
            " [1330]\n",
            " [1485]\n",
            " [1470]\n",
            " [1135]\n",
            " [1310]\n",
            " [1154]\n",
            " [1510]\n",
            " [1415]\n",
            " [1468]\n",
            " [1390]\n",
            " [1380]\n",
            " [1432]\n",
            " [1240]\n",
            " [1195]\n",
            " [1225]\n",
            " [1188]\n",
            " [1252]\n",
            " [1315]\n",
            " [1245]\n",
            " [1430]\n",
            " [1279]\n",
            " [1245]\n",
            " [1309]\n",
            " [1412]\n",
            " [1120]\n",
            " [1220]\n",
            " [1280]\n",
            " [1440]\n",
            " [1370]\n",
            " [1192]\n",
            " [1230]\n",
            " [1346]\n",
            " [1290]\n",
            " [1165]\n",
            " [1240]\n",
            " [1132]\n",
            " [1242]\n",
            " [1270]\n",
            " [1218]\n",
            " [1430]\n",
            " [1588]\n",
            " [1320]\n",
            " [1290]\n",
            " [1260]\n",
            " [1425]\n",
            " [1226]\n",
            " [1360]\n",
            " [1620]\n",
            " [1310]\n",
            " [1250]\n",
            " [1295]\n",
            " [1290]\n",
            " [1290]\n",
            " [1275]\n",
            " [1250]\n",
            " [1270]\n",
            " [1362]\n",
            " [1300]\n",
            " [1173]\n",
            " [1256]\n",
            " [1440]\n",
            " [1180]\n",
            " [1306]\n",
            " [1350]\n",
            " [1125]\n",
            " [1165]\n",
            " [1312]\n",
            " [1300]\n",
            " [1270]\n",
            " [1335]\n",
            " [1450]\n",
            " [1310]\n",
            " [1027]\n",
            " [1235]\n",
            " [1260]\n",
            " [1165]\n",
            " [1080]\n",
            " [1127]\n",
            " [1270]\n",
            " [1252]\n",
            " [1200]\n",
            " [1290]\n",
            " [1334]\n",
            " [1380]\n",
            " [1140]\n",
            " [1243]\n",
            " [1340]\n",
            " [1168]\n",
            " [1322]\n",
            " [1249]\n",
            " [1321]\n",
            " [1192]\n",
            " [1373]\n",
            " [1170]\n",
            " [1265]\n",
            " [1235]\n",
            " [1302]\n",
            " [1241]\n",
            " [1078]\n",
            " [1520]\n",
            " [1460]\n",
            " [1075]\n",
            " [1280]\n",
            " [1180]\n",
            " [1250]\n",
            " [1190]\n",
            " [1374]\n",
            " [1306]\n",
            " [1202]\n",
            " [1240]\n",
            " [1316]\n",
            " [1280]\n",
            " [1350]\n",
            " [1180]\n",
            " [1210]\n",
            " [1127]\n",
            " [1324]\n",
            " [1210]\n",
            " [1290]\n",
            " [1100]\n",
            " [1280]\n",
            " [1175]\n",
            " [1160]\n",
            " [1205]\n",
            " [1163]\n",
            " [1022]\n",
            " [1243]\n",
            " [1350]\n",
            " [1237]\n",
            " [1204]\n",
            " [1090]\n",
            " [1355]\n",
            " [1250]\n",
            " [1076]\n",
            " [1120]\n",
            " [1220]\n",
            " [1240]\n",
            " [1220]\n",
            " [1095]\n",
            " [1235]\n",
            " [1105]\n",
            " [1405]\n",
            " [1150]\n",
            " [1305]\n",
            " [1220]\n",
            " [1296]\n",
            " [1175]\n",
            " [ 955]\n",
            " [1070]\n",
            " [1320]\n",
            " [1060]\n",
            " [1130]\n",
            " [1250]\n",
            " [1225]\n",
            " [1180]\n",
            " [1178]\n",
            " [1142]\n",
            " [1130]\n",
            " [1185]\n",
            " [1012]\n",
            " [1280]\n",
            " [1103]\n",
            " [1408]\n",
            " [1300]\n",
            " [1246]\n",
            " [1380]\n",
            " [1350]\n",
            " [1060]\n",
            " [1350]\n",
            " [1220]\n",
            " [1110]\n",
            " [1215]\n",
            " [1104]\n",
            " [1170]\n",
            " [1120]]\n"
          ],
          "name": "stdout"
        }
      ]
    },
    {
      "cell_type": "markdown",
      "metadata": {
        "id": "j_BdM2mEpes7"
      },
      "source": [
        "- matrix A의 transpose matrix를 계산합니다."
      ]
    },
    {
      "cell_type": "code",
      "metadata": {
        "colab": {
          "base_uri": "https://localhost:8080/"
        },
        "id": "MTaZYcgjilJT",
        "outputId": "c61cf294-7456-4797-b2dc-3d94afee2bbf"
      },
      "source": [
        "AT = A.transpose()\n",
        "AT.shape"
      ],
      "execution_count": null,
      "outputs": [
        {
          "output_type": "execute_result",
          "data": {
            "text/plain": [
              "(2, 237)"
            ]
          },
          "metadata": {
            "tags": []
          },
          "execution_count": 8
        }
      ]
    },
    {
      "cell_type": "markdown",
      "metadata": {
        "id": "pIZfmE9opjxm"
      },
      "source": [
        "- matrix A의 transpose와 matrix A를 곱한 결과를 ATA로 정의합니다."
      ]
    },
    {
      "cell_type": "code",
      "metadata": {
        "colab": {
          "base_uri": "https://localhost:8080/"
        },
        "id": "7jhETsA0jYfN",
        "outputId": "996d1dff-5a87-46b5-bfac-396d4c185e06"
      },
      "source": [
        "ATA = np.matmul(AT,A)\n",
        "print('shape of ATA:',ATA.shape)\n",
        "print('ATA=')\n",
        "print(ATA)"
      ],
      "execution_count": null,
      "outputs": [
        {
          "output_type": "stream",
          "text": [
            "shape of ATA: (2, 2)\n",
            "ATA=\n",
            "[[2.37000000e+02 8.61256000e+05]\n",
            " [8.61256000e+05 3.16128319e+09]]\n"
          ],
          "name": "stdout"
        }
      ]
    },
    {
      "cell_type": "markdown",
      "metadata": {
        "id": "NB6Uz2popr0T"
      },
      "source": [
        "- ATA의 inverse matrix를 구합니다."
      ]
    },
    {
      "cell_type": "code",
      "metadata": {
        "colab": {
          "base_uri": "https://localhost:8080/"
        },
        "id": "l1cFRp3CjqXv",
        "outputId": "a184de8d-161c-4d09-b35f-4acc890a5cba"
      },
      "source": [
        "ATA_inv = np.linalg.inv(ATA)\n",
        "print('ATA_inv=')\n",
        "print(ATA)"
      ],
      "execution_count": null,
      "outputs": [
        {
          "output_type": "stream",
          "text": [
            "ATA_inv=\n",
            "[[2.37000000e+02 8.61256000e+05]\n",
            " [8.61256000e+05 3.16128319e+09]]\n"
          ],
          "name": "stdout"
        }
      ]
    },
    {
      "cell_type": "markdown",
      "metadata": {
        "id": "bSvjOuSPpu4z"
      },
      "source": [
        "- inverse matrix의 정의를 통하여 inverse matrix가 제대로 구하여졌는지 확인해 봅니다.\n",
        "- Nondiagonal element들이 정확히 0이 되지 않는 이유는?"
      ]
    },
    {
      "cell_type": "code",
      "metadata": {
        "colab": {
          "base_uri": "https://localhost:8080/"
        },
        "id": "ySEzyCM3j3B5",
        "outputId": "ba09e24a-962d-4151-d247-8c3e99cd796b"
      },
      "source": [
        "print(np.matmul(ATA,ATA_inv))"
      ],
      "execution_count": null,
      "outputs": [
        {
          "output_type": "stream",
          "text": [
            "[[ 1.00000000e+00  3.18982020e-18]\n",
            " [-6.86679168e-11  1.00000000e+00]]\n"
          ],
          "name": "stdout"
        }
      ]
    },
    {
      "cell_type": "code",
      "metadata": {
        "colab": {
          "base_uri": "https://localhost:8080/"
        },
        "id": "McyDtKjtj-Uy",
        "outputId": "2b8e2983-c98b-432e-f3e3-7b3687acff26"
      },
      "source": [
        "print(np.matmul(ATA_inv,ATA))"
      ],
      "execution_count": null,
      "outputs": [
        {
          "output_type": "stream",
          "text": [
            "[[ 1.00000000e+00  1.70188358e-11]\n",
            " [-3.74907370e-18  1.00000000e+00]]\n"
          ],
          "name": "stdout"
        }
      ]
    },
    {
      "cell_type": "markdown",
      "metadata": {
        "id": "2UH4y-bLp83Z"
      },
      "source": [
        "- least squares error를 최소로 만들어주는 x를 구합니다."
      ]
    },
    {
      "cell_type": "code",
      "metadata": {
        "colab": {
          "base_uri": "https://localhost:8080/"
        },
        "id": "E2psU_UTivjL",
        "outputId": "ccf6ac62-fd43-4f18-eb66-b79d10b25400"
      },
      "source": [
        "x = np.matmul(ATA_inv, np.matmul(AT,b))\n",
        "print(x)"
      ],
      "execution_count": null,
      "outputs": [
        {
          "output_type": "stream",
          "text": [
            "[[3.25573421e+02]\n",
            " [2.63429339e-01]]\n"
          ],
          "name": "stdout"
        }
      ]
    },
    {
      "cell_type": "markdown",
      "metadata": {
        "id": "S-WmnpoBqBh2"
      },
      "source": [
        "- b = C + Dt 의 C를 x로부터 얻어낼 수 있습니다."
      ]
    },
    {
      "cell_type": "code",
      "metadata": {
        "colab": {
          "base_uri": "https://localhost:8080/"
        },
        "id": "GCyltWiLi93s",
        "outputId": "3f2f78e2-49fc-4503-a708-bd76d4d28cb3"
      },
      "source": [
        "C = x[0]\n",
        "D = x[1]\n",
        "print('C=',C)\n",
        "print('D=',D)"
      ],
      "execution_count": null,
      "outputs": [
        {
          "output_type": "stream",
          "text": [
            "C= [325.57342105]\n",
            "D= [0.26342934]\n"
          ],
          "name": "stdout"
        }
      ]
    },
    {
      "cell_type": "markdown",
      "metadata": {
        "id": "z_0rnOdgqG07"
      },
      "source": [
        "- Projection vector p는 x에 A를 곱하여 얻을 수 있습니다.\n",
        "- Error vector는 b에서 p를 빼주어 구합니다."
      ]
    },
    {
      "cell_type": "code",
      "metadata": {
        "colab": {
          "base_uri": "https://localhost:8080/"
        },
        "id": "xRjKRLa9jCze",
        "outputId": "1335cb47-0043-4e01-e50b-adeff6e377a3"
      },
      "source": [
        "p = np.matmul(A,x)\n",
        "e = b - p\n",
        "print(e)"
      ],
      "execution_count": null,
      "outputs": [
        {
          "output_type": "stream",
          "text": [
            "[[  15.83339917]\n",
            " [ -13.27229206]\n",
            " [-113.04583661]\n",
            " [ -38.5460363 ]\n",
            " [ 164.0822279 ]\n",
            " [  30.03239688]\n",
            " [  77.34652898]\n",
            " [  -8.11844029]\n",
            " [  77.65637538]\n",
            " [   0.4509491 ]\n",
            " [ 107.43936309]\n",
            " [   2.55322637]\n",
            " [  70.54378321]\n",
            " [  87.91591838]\n",
            " [-127.03464997]\n",
            " [  58.37445909]\n",
            " [ 111.21417876]\n",
            " [  53.38048828]\n",
            " [ 199.11277323]\n",
            " [ -90.98481895]\n",
            " [   9.84760041]\n",
            " [-104.40852862]\n",
            " [ -52.65862847]\n",
            " [ -32.89627056]\n",
            " [  58.92750439]\n",
            " [  14.27861039]\n",
            " [ 101.22576477]\n",
            " [  99.91377552]\n",
            " [  74.54164035]\n",
            " [  -5.39091342]\n",
            " [  -5.1803297 ]\n",
            " [ 106.44880625]\n",
            " [ -42.42400097]\n",
            " [ -16.70290266]\n",
            " [  11.08738535]\n",
            " [-123.29292186]\n",
            " [ 120.31129857]\n",
            " [  37.09341454]\n",
            " [  32.15316109]\n",
            " [   4.53132545]\n",
            " [ -19.28046411]\n",
            " [  71.10674404]\n",
            " [  62.72897905]\n",
            " [ 242.34137153]\n",
            " [  -3.2009595 ]\n",
            " [  33.75262345]\n",
            " [  45.57298443]\n",
            " [  55.67271947]\n",
            " [  26.28035387]\n",
            " [  14.49006585]\n",
            " [-126.576981  ]\n",
            " [  25.23909427]\n",
            " [-115.41670067]\n",
            " [  -5.88682739]\n",
            " [  17.54806892]\n",
            " [ -11.512077  ]\n",
            " [ -40.31355166]\n",
            " [ 136.97995064]\n",
            " [ -32.16787194]\n",
            " [ -70.09566764]\n",
            " [  71.00875248]\n",
            " [ -44.38916994]\n",
            " [-165.72654706]\n",
            " [  39.0615981 ]\n",
            " [ 162.62543067]\n",
            " [ -67.52969221]\n",
            " [  84.81538459]\n",
            " [ -59.85715381]\n",
            " [  17.43460501]\n",
            " [ -64.65735735]\n",
            " [  86.60178628]\n",
            " [  48.1161872 ]\n",
            " [ -31.16572909]\n",
            " [  37.69374864]\n",
            " [ -92.92721526]\n",
            " [ -24.65259928]\n",
            " [ -37.85501095]\n",
            " [ -23.22286041]\n",
            " [-108.85072524]\n",
            " [ -20.82493799]\n",
            " [ -89.50779129]\n",
            " [  88.64304588]\n",
            " [  97.54465495]\n",
            " [ -22.8601684 ]\n",
            " [ -52.64101326]\n",
            " [  72.22362192]\n",
            " [ -77.26110542]\n",
            " [  -2.81375135]\n",
            " [  30.8433147 ]\n",
            " [  85.20814957]\n",
            " [ -51.43947333]\n",
            " [  -7.63196948]\n",
            " [ -60.25166226]\n",
            " [  -6.68441572]\n",
            " [ -10.26197716]\n",
            " [-156.07289498]\n",
            " [  -0.4635171 ]\n",
            " [-112.94181587]\n",
            " [ -46.14422754]\n",
            " [  28.21933621]\n",
            " [ -28.25896256]\n",
            " [  94.43849135]\n",
            " [ 241.37445909]\n",
            " [  30.01176708]\n",
            " [  11.33922868]\n",
            " [ -26.56365151]\n",
            " [  37.27948213]\n",
            " [   5.03025403]\n",
            " [   2.83728551]\n",
            " [ 127.43460501]\n",
            " [  11.05516954]\n",
            " [  -3.89841341]\n",
            " [  28.72040763]\n",
            " [  17.66153283]\n",
            " [  73.24512346]\n",
            " [  27.68732008]\n",
            " [ -21.02132048]\n",
            " [ -82.94784506]\n",
            " [ -47.32172371]\n",
            " [ -62.69473062]\n",
            " [ -47.96974597]\n",
            " [-175.9766469 ]\n",
            " [ -67.84429668]\n",
            " [ -97.60705396]\n",
            " [ -86.72567532]\n",
            " [  28.136817  ]\n",
            " [ -93.86231126]\n",
            " [  16.47332239]\n",
            " [ -81.252534  ]\n",
            " [  30.8226849 ]\n",
            " [ -21.30537962]\n",
            " [  78.99415187]\n",
            " [  58.59147138]\n",
            " [  18.43119104]\n",
            " [ -51.19104397]\n",
            " [   4.28336846]\n",
            " [ -64.23404705]\n",
            " [ -30.41710004]\n",
            " [ -63.25809082]\n",
            " [ -33.90785657]\n",
            " [   3.45697829]\n",
            " [  -3.47898945]\n",
            " [  38.03842607]\n",
            " [  58.75650979]\n",
            " [ -19.73813308]\n",
            " [  27.31558428]\n",
            " [ -81.49660465]\n",
            " [  56.80292684]\n",
            " [ 105.33192837]\n",
            " [  28.42991993]\n",
            " [  97.34224327]\n",
            " [  48.05088383]\n",
            " [  26.00660963]\n",
            " [ -39.50691955]\n",
            " [  32.4333339 ]\n",
            " [  13.04358352]\n",
            " [  75.64177476]\n",
            " [ -67.10598254]\n",
            " [ -78.87135504]\n",
            " [  54.27606816]\n",
            " [ -56.56492262]\n",
            " [ 198.92710502]\n",
            " [ 199.77928244]\n",
            " [-117.78280665]\n",
            " [  33.21417876]\n",
            " [  42.53735464]\n",
            " [  68.80808429]\n",
            " [ -20.16914305]\n",
            " [  46.60480087]\n",
            " [  41.03755433]\n",
            " [  47.94130626]\n",
            " [  -8.36639728]\n",
            " [  49.72040763]\n",
            " [ -26.58428131]\n",
            " [  72.1295167 ]\n",
            " [  10.66240457]\n",
            " [ -66.28990727]\n",
            " [-136.64529897]\n",
            " [ -49.75876288]\n",
            " [ -46.26927747]\n",
            " [  -7.36425443]\n",
            " [ -57.48327516]\n",
            " [-100.6079257 ]\n",
            " [  11.45785003]\n",
            " [ -82.04409313]\n",
            " [ -79.98307547]\n",
            " [-119.34878207]\n",
            " [-112.03806394]\n",
            " [  23.34740072]\n",
            " [  48.94773482]\n",
            " [  77.67271947]\n",
            " [  -5.1154257 ]\n",
            " [ -25.86143952]\n",
            " [  58.16260425]\n",
            " [ -12.32815227]\n",
            " [  19.93702055]\n",
            " [ -11.14034121]\n",
            " [  13.5188677 ]\n",
            " [  -5.73210389]\n",
            " [  25.90004665]\n",
            " [-115.69600173]\n",
            " [  59.07667108]\n",
            " [ -83.83136656]\n",
            " [  64.96019258]\n",
            " [  16.48879474]\n",
            " [   6.84545756]\n",
            " [  -1.76003399]\n",
            " [ -81.97363231]\n",
            " [ -24.63196948]\n",
            " [ -87.10122446]\n",
            " [ -29.26539113]\n",
            " [  51.34954358]\n",
            " [ -39.79224981]\n",
            " [  17.03628322]\n",
            " [ -20.23103246]\n",
            " [  68.04358352]\n",
            " [  -0.66505703]\n",
            " [  17.35557277]\n",
            " [ -44.4605025 ]\n",
            " [ -88.33545258]\n",
            " [ -31.22801786]\n",
            " [ -68.03504935]\n",
            " [ -30.79915074]\n",
            " [-139.04409313]\n",
            " [ 121.69977783]\n",
            " [  -4.47684659]\n",
            " [  55.32462807]\n",
            " [ -53.03036426]\n",
            " [  40.51799596]\n",
            " [-113.28903553]\n",
            " [  53.68946293]\n",
            " [ -81.31569452]\n",
            " [ -62.23531817]\n",
            " [  -4.65259928]\n",
            " [ -73.24047562]\n",
            " [ -38.58856702]\n",
            " [ -98.86231126]]\n"
          ],
          "name": "stdout"
        }
      ]
    },
    {
      "cell_type": "markdown",
      "metadata": {
        "id": "TrmxFlhdqRsM"
      },
      "source": [
        "- Projection vector를 plot하여 data를 잘 표현하는 1차함수가 만들어졌는지 확인해봅니다."
      ]
    },
    {
      "cell_type": "code",
      "metadata": {
        "colab": {
          "base_uri": "https://localhost:8080/",
          "height": 283
        },
        "id": "xXpCLRwhknpw",
        "outputId": "edaa318f-cd38-48f9-84b2-4a5e1b9ed23c"
      },
      "source": [
        "plt.scatter(t,b)\n",
        "plt.scatter(t,p)\n",
        "plt.xlabel(data.columns[2])\n",
        "plt.ylabel(data.columns[3])\n",
        "plt.xlim([2500,5000])\n",
        "plt.ylim([800,1800])\n",
        "plt.grid(True)\n",
        "plt.legend(['data','projection'])\n",
        "plt.show()"
      ],
      "execution_count": null,
      "outputs": [
        {
          "output_type": "display_data",
          "data": {
            "image/png": "[encoded data removed]",
            "text/plain": [
              "<Figure size 432x288 with 1 Axes>"
            ]
          },
          "metadata": {
            "tags": [],
            "needs_background": "light"
          }
        }
      ]
    },
    {
      "cell_type": "markdown",
      "metadata": {
        "id": "qo59KwEgqZfC"
      },
      "source": [
        "- Error vector를 plot하여 각각의 data에 대한 error의 정도를 확인해 볼 수 있습니다."
      ]
    },
    {
      "cell_type": "code",
      "metadata": {
        "colab": {
          "base_uri": "https://localhost:8080/",
          "height": 279
        },
        "id": "D-bw4izUlUis",
        "outputId": "232a26f8-cb86-4a2c-8c0d-ad0090fb46cc"
      },
      "source": [
        "plt.scatter(t,e)\n",
        "plt.xlabel(data.columns[2])\n",
        "plt.ylabel('error (grams)')\n",
        "plt.xlim([2500,5000])\n",
        "plt.ylim([-500,500])\n",
        "plt.grid(True)\n",
        "plt.show()"
      ],
      "execution_count": null,
      "outputs": [
        {
          "output_type": "display_data",
          "data": {
            "image/png": "[encoded data removed]",
            "text/plain": [
              "<Figure size 432x288 with 1 Axes>"
            ]
          },
          "metadata": {
            "tags": [],
            "needs_background": "light"
          }
        }
      ]
    },
    {
      "cell_type": "markdown",
      "metadata": {
        "id": "tmP_ouXHndDR"
      },
      "source": [
        "- 지금까지의 과정을 numpy에서 제공하는 lstsq함수를 이용해 한 번에 구해볼 수도 있습니다."
      ]
    },
    {
      "cell_type": "code",
      "metadata": {
        "colab": {
          "base_uri": "https://localhost:8080/"
        },
        "id": "5l_rxKVOnAZV",
        "outputId": "c3b9c1c5-2f47-49df-9b7a-645f5eb9b65f"
      },
      "source": [
        "x =np.linalg.lstsq(A,b) # least squares solution\n",
        "C = x[0][0]\n",
        "D = x[0][1]\n",
        "print('C=',C)\n",
        "print('D=',D)"
      ],
      "execution_count": null,
      "outputs": [
        {
          "output_type": "stream",
          "text": [
            "C= [325.57342105]\n",
            "D= [0.26342934]\n"
          ],
          "name": "stdout"
        },
        {
          "output_type": "stream",
          "text": [
            "/usr/local/lib/python3.7/dist-packages/ipykernel_launcher.py:1: FutureWarning: `rcond` parameter will change to the default of machine precision times ``max(M, N)`` where M and N are the input matrix dimensions.\n",
            "To use the future default and silence this warning we advise to pass `rcond=None`, to keep using the old, explicitly pass `rcond=-1`.\n",
            "  \"\"\"Entry point for launching an IPython kernel.\n"
          ],
          "name": "stderr"
        }
      ]
    }
  ]
}