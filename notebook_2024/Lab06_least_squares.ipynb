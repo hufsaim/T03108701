{
  "nbformat": 4,
  "nbformat_minor": 0,
  "metadata": {
    "colab": {
      "provenance": [],
      "authorship_tag": "ABX9TyOZIX3JYTEmvXycmj4wZU0a",
      "include_colab_link": true
    },
    "kernelspec": {
      "name": "python3",
      "display_name": "Python 3"
    },
    "language_info": {
      "name": "python"
    }
  },
  "cells": [
    {
      "cell_type": "markdown",
      "metadata": {
        "id": "view-in-github",
        "colab_type": "text"
      },
      "source": [
        "<a href=\"https://colab.research.google.com/github/hufsaim/T03108701/blob/main/notebook_2024/Lab06_least_squares.ipynb\" target=\"_parent\"><img src=\"https://colab.research.google.com/assets/colab-badge.svg\" alt=\"Open In Colab\"/></a>"
      ]
    },
    {
      "cell_type": "markdown",
      "metadata": {
        "id": "JGT29R9_nfBV"
      },
      "source": [
        "# Least Squares Approximation\n",
        "- 측정데이터 (t,b)에 대한 1차 함수 b = C + Dt 를 least squares approximation을 통하여 구해보는 실습입니다.\n",
        "- 우리는 projection을 통해 least squares error를 최소로 만들어 주는 (C, D)를 구할 수가 있습니다.\n",
        "- 주어진 데이터쌍 (t,b)로부터 linear equation Ax = b 를 구성하고, least squares error를 최소로 만드는 vector p 를 만들어주는 x를 구합니다.\n",
        "\n",
        "\n",
        "\n",
        "\n",
        "\n"
      ]
    },
    {
      "cell_type": "code",
      "metadata": {
        "id": "Qf1KEZqMiAS1"
      },
      "source": [
        "import numpy as np\n",
        "import matplotlib.pyplot as plt\n",
        "import pandas as pd"
      ],
      "execution_count": 1,
      "outputs": []
    },
    {
      "cell_type": "markdown",
      "metadata": {
        "id": "iXE26pM9okHq"
      },
      "source": [
        "- 실습에 사용하기 위한 csv파일을 불러와서 data를 관찰합니다."
      ]
    },
    {
      "cell_type": "code",
      "metadata": {
        "id": "ZQBehODLiDft"
      },
      "source": [
        "data = pd.read_csv('https://raw.githubusercontent.com/hufsbme/T03108701/master/ch4/headbrain.csv')"
      ],
      "execution_count": 2,
      "outputs": []
    },
    {
      "cell_type": "code",
      "source": [
        "strd=5\n",
        "data[::strd]"
      ],
      "metadata": {
        "id": "zCtKCd85mhuq",
        "outputId": "cc1b031f-650c-49f7-c111-2419226e6f17",
        "colab": {
          "base_uri": "https://localhost:8080/",
          "height": 1000
        }
      },
      "execution_count": 3,
      "outputs": [
        {
          "output_type": "execute_result",
          "data": {
            "text/plain": [
              "     Gender  Age Range  Head Size(cm^3)  Brain Weight(grams)\n",
              "0         1          1             4512                 1530\n",
              "5         1          1             3585                 1300\n",
              "10        1          1             3443                 1340\n",
              "15        1          1             3876                 1405\n",
              "20        1          1             3878                 1357\n",
              "25        1          1             4423                 1505\n",
              "30        1          1             3787                 1318\n",
              "35        1          1             3814                 1207\n",
              "40        1          1             3962                 1350\n",
              "45        1          1             4034                 1422\n",
              "50        1          1             3891                 1224\n",
              "55        1          1             3458                 1225\n",
              "60        1          2             3866                 1415\n",
              "65        1          2             3329                 1135\n",
              "70        1          2             4008                 1468\n",
              "75        1          2             3394                 1195\n",
              "80        1          2             3830                 1245\n",
              "85        1          2             3850                 1412\n",
              "90        1          2             4160                 1370\n",
              "95        1          2             3779                 1165\n",
              "100       1          2             3495                 1218\n",
              "105       1          2             3648                 1260\n",
              "110       1          2             3695                 1310\n",
              "115       1          2             3499                 1275\n",
              "120       1          2             3399                 1173\n",
              "125       1          2             3782                 1350\n",
              "130       1          2             3666                 1270\n",
              "135       2          1             3436                 1235\n",
              "140       2          1             3572                 1270\n",
              "145       2          1             3899                 1380\n",
              "150       2          1             3413                 1322\n",
              "155       2          1             3156                 1170\n",
              "160       2          1             3071                 1078\n",
              "165       2          1             3082                 1180\n",
              "170       2          1             3145                 1202\n",
              "175       2          1             3203                 1180\n",
              "180       2          1             3689                 1290\n",
              "185       2          1             3642                 1205\n",
              "190       2          2             3165                 1237\n",
              "195       2          2             2773                 1076\n",
              "200       2          2             3360                 1095\n",
              "205       2          2             3692                 1305\n",
              "210       2          2             2937                 1070\n",
              "215       2          2             3156                 1225\n",
              "220       2          2             3381                 1185\n",
              "225       2          2             3716                 1300\n",
              "230       2          2             3685                 1350\n",
              "235       2          2             3352                 1170"
            ],
            "text/html": [
              "\n",
              "  <div id=\"df-23c9f691-b101-4a04-911e-68cb3ad93640\" class=\"colab-df-container\">\n",
              "    <div>\n",
              "<style scoped>\n",
              "    .dataframe tbody tr th:only-of-type {\n",
              "        vertical-align: middle;\n",
              "    }\n",
              "\n",
              "    .dataframe tbody tr th {\n",
              "        vertical-align: top;\n",
              "    }\n",
              "\n",
              "    .dataframe thead th {\n",
              "        text-align: right;\n",
              "    }\n",
              "</style>\n",
              "<table border=\"1\" class=\"dataframe\">\n",
              "  <thead>\n",
              "    <tr style=\"text-align: right;\">\n",
              "      <th></th>\n",
              "      <th>Gender</th>\n",
              "      <th>Age Range</th>\n",
              "      <th>Head Size(cm^3)</th>\n",
              "      <th>Brain Weight(grams)</th>\n",
              "    </tr>\n",
              "  </thead>\n",
              "  <tbody>\n",
              "    <tr>\n",
              "      <th>0</th>\n",
              "      <td>1</td>\n",
              "      <td>1</td>\n",
              "      <td>4512</td>\n",
              "      <td>1530</td>\n",
              "    </tr>\n",
              "    <tr>\n",
              "      <th>5</th>\n",
              "      <td>1</td>\n",
              "      <td>1</td>\n",
              "      <td>3585</td>\n",
              "      <td>1300</td>\n",
              "    </tr>\n",
              "    <tr>\n",
              "      <th>10</th>\n",
              "      <td>1</td>\n",
              "      <td>1</td>\n",
              "      <td>3443</td>\n",
              "      <td>1340</td>\n",
              "    </tr>\n",
              "    <tr>\n",
              "      <th>15</th>\n",
              "      <td>1</td>\n",
              "      <td>1</td>\n",
              "      <td>3876</td>\n",
              "      <td>1405</td>\n",
              "    </tr>\n",
              "    <tr>\n",
              "      <th>20</th>\n",
              "      <td>1</td>\n",
              "      <td>1</td>\n",
              "      <td>3878</td>\n",
              "      <td>1357</td>\n",
              "    </tr>\n",
              "    <tr>\n",
              "      <th>25</th>\n",
              "      <td>1</td>\n",
              "      <td>1</td>\n",
              "      <td>4423</td>\n",
              "      <td>1505</td>\n",
              "    </tr>\n",
              "    <tr>\n",
              "      <th>30</th>\n",
              "      <td>1</td>\n",
              "      <td>1</td>\n",
              "      <td>3787</td>\n",
              "      <td>1318</td>\n",
              "    </tr>\n",
              "    <tr>\n",
              "      <th>35</th>\n",
              "      <td>1</td>\n",
              "      <td>1</td>\n",
              "      <td>3814</td>\n",
              "      <td>1207</td>\n",
              "    </tr>\n",
              "    <tr>\n",
              "      <th>40</th>\n",
              "      <td>1</td>\n",
              "      <td>1</td>\n",
              "      <td>3962</td>\n",
              "      <td>1350</td>\n",
              "    </tr>\n",
              "    <tr>\n",
              "      <th>45</th>\n",
              "      <td>1</td>\n",
              "      <td>1</td>\n",
              "      <td>4034</td>\n",
              "      <td>1422</td>\n",
              "    </tr>\n",
              "    <tr>\n",
              "      <th>50</th>\n",
              "      <td>1</td>\n",
              "      <td>1</td>\n",
              "      <td>3891</td>\n",
              "      <td>1224</td>\n",
              "    </tr>\n",
              "    <tr>\n",
              "      <th>55</th>\n",
              "      <td>1</td>\n",
              "      <td>1</td>\n",
              "      <td>3458</td>\n",
              "      <td>1225</td>\n",
              "    </tr>\n",
              "    <tr>\n",
              "      <th>60</th>\n",
              "      <td>1</td>\n",
              "      <td>2</td>\n",
              "      <td>3866</td>\n",
              "      <td>1415</td>\n",
              "    </tr>\n",
              "    <tr>\n",
              "      <th>65</th>\n",
              "      <td>1</td>\n",
              "      <td>2</td>\n",
              "      <td>3329</td>\n",
              "      <td>1135</td>\n",
              "    </tr>\n",
              "    <tr>\n",
              "      <th>70</th>\n",
              "      <td>1</td>\n",
              "      <td>2</td>\n",
              "      <td>4008</td>\n",
              "      <td>1468</td>\n",
              "    </tr>\n",
              "    <tr>\n",
              "      <th>75</th>\n",
              "      <td>1</td>\n",
              "      <td>2</td>\n",
              "      <td>3394</td>\n",
              "      <td>1195</td>\n",
              "    </tr>\n",
              "    <tr>\n",
              "      <th>80</th>\n",
              "      <td>1</td>\n",
              "      <td>2</td>\n",
              "      <td>3830</td>\n",
              "      <td>1245</td>\n",
              "    </tr>\n",
              "    <tr>\n",
              "      <th>85</th>\n",
              "      <td>1</td>\n",
              "      <td>2</td>\n",
              "      <td>3850</td>\n",
              "      <td>1412</td>\n",
              "    </tr>\n",
              "    <tr>\n",
              "      <th>90</th>\n",
              "      <td>1</td>\n",
              "      <td>2</td>\n",
              "      <td>4160</td>\n",
              "      <td>1370</td>\n",
              "    </tr>\n",
              "    <tr>\n",
              "      <th>95</th>\n",
              "      <td>1</td>\n",
              "      <td>2</td>\n",
              "      <td>3779</td>\n",
              "      <td>1165</td>\n",
              "    </tr>\n",
              "    <tr>\n",
              "      <th>100</th>\n",
              "      <td>1</td>\n",
              "      <td>2</td>\n",
              "      <td>3495</td>\n",
              "      <td>1218</td>\n",
              "    </tr>\n",
              "    <tr>\n",
              "      <th>105</th>\n",
              "      <td>1</td>\n",
              "      <td>2</td>\n",
              "      <td>3648</td>\n",
              "      <td>1260</td>\n",
              "    </tr>\n",
              "    <tr>\n",
              "      <th>110</th>\n",
              "      <td>1</td>\n",
              "      <td>2</td>\n",
              "      <td>3695</td>\n",
              "      <td>1310</td>\n",
              "    </tr>\n",
              "    <tr>\n",
              "      <th>115</th>\n",
              "      <td>1</td>\n",
              "      <td>2</td>\n",
              "      <td>3499</td>\n",
              "      <td>1275</td>\n",
              "    </tr>\n",
              "    <tr>\n",
              "      <th>120</th>\n",
              "      <td>1</td>\n",
              "      <td>2</td>\n",
              "      <td>3399</td>\n",
              "      <td>1173</td>\n",
              "    </tr>\n",
              "    <tr>\n",
              "      <th>125</th>\n",
              "      <td>1</td>\n",
              "      <td>2</td>\n",
              "      <td>3782</td>\n",
              "      <td>1350</td>\n",
              "    </tr>\n",
              "    <tr>\n",
              "      <th>130</th>\n",
              "      <td>1</td>\n",
              "      <td>2</td>\n",
              "      <td>3666</td>\n",
              "      <td>1270</td>\n",
              "    </tr>\n",
              "    <tr>\n",
              "      <th>135</th>\n",
              "      <td>2</td>\n",
              "      <td>1</td>\n",
              "      <td>3436</td>\n",
              "      <td>1235</td>\n",
              "    </tr>\n",
              "    <tr>\n",
              "      <th>140</th>\n",
              "      <td>2</td>\n",
              "      <td>1</td>\n",
              "      <td>3572</td>\n",
              "      <td>1270</td>\n",
              "    </tr>\n",
              "    <tr>\n",
              "      <th>145</th>\n",
              "      <td>2</td>\n",
              "      <td>1</td>\n",
              "      <td>3899</td>\n",
              "      <td>1380</td>\n",
              "    </tr>\n",
              "    <tr>\n",
              "      <th>150</th>\n",
              "      <td>2</td>\n",
              "      <td>1</td>\n",
              "      <td>3413</td>\n",
              "      <td>1322</td>\n",
              "    </tr>\n",
              "    <tr>\n",
              "      <th>155</th>\n",
              "      <td>2</td>\n",
              "      <td>1</td>\n",
              "      <td>3156</td>\n",
              "      <td>1170</td>\n",
              "    </tr>\n",
              "    <tr>\n",
              "      <th>160</th>\n",
              "      <td>2</td>\n",
              "      <td>1</td>\n",
              "      <td>3071</td>\n",
              "      <td>1078</td>\n",
              "    </tr>\n",
              "    <tr>\n",
              "      <th>165</th>\n",
              "      <td>2</td>\n",
              "      <td>1</td>\n",
              "      <td>3082</td>\n",
              "      <td>1180</td>\n",
              "    </tr>\n",
              "    <tr>\n",
              "      <th>170</th>\n",
              "      <td>2</td>\n",
              "      <td>1</td>\n",
              "      <td>3145</td>\n",
              "      <td>1202</td>\n",
              "    </tr>\n",
              "    <tr>\n",
              "      <th>175</th>\n",
              "      <td>2</td>\n",
              "      <td>1</td>\n",
              "      <td>3203</td>\n",
              "      <td>1180</td>\n",
              "    </tr>\n",
              "    <tr>\n",
              "      <th>180</th>\n",
              "      <td>2</td>\n",
              "      <td>1</td>\n",
              "      <td>3689</td>\n",
              "      <td>1290</td>\n",
              "    </tr>\n",
              "    <tr>\n",
              "      <th>185</th>\n",
              "      <td>2</td>\n",
              "      <td>1</td>\n",
              "      <td>3642</td>\n",
              "      <td>1205</td>\n",
              "    </tr>\n",
              "    <tr>\n",
              "      <th>190</th>\n",
              "      <td>2</td>\n",
              "      <td>2</td>\n",
              "      <td>3165</td>\n",
              "      <td>1237</td>\n",
              "    </tr>\n",
              "    <tr>\n",
              "      <th>195</th>\n",
              "      <td>2</td>\n",
              "      <td>2</td>\n",
              "      <td>2773</td>\n",
              "      <td>1076</td>\n",
              "    </tr>\n",
              "    <tr>\n",
              "      <th>200</th>\n",
              "      <td>2</td>\n",
              "      <td>2</td>\n",
              "      <td>3360</td>\n",
              "      <td>1095</td>\n",
              "    </tr>\n",
              "    <tr>\n",
              "      <th>205</th>\n",
              "      <td>2</td>\n",
              "      <td>2</td>\n",
              "      <td>3692</td>\n",
              "      <td>1305</td>\n",
              "    </tr>\n",
              "    <tr>\n",
              "      <th>210</th>\n",
              "      <td>2</td>\n",
              "      <td>2</td>\n",
              "      <td>2937</td>\n",
              "      <td>1070</td>\n",
              "    </tr>\n",
              "    <tr>\n",
              "      <th>215</th>\n",
              "      <td>2</td>\n",
              "      <td>2</td>\n",
              "      <td>3156</td>\n",
              "      <td>1225</td>\n",
              "    </tr>\n",
              "    <tr>\n",
              "      <th>220</th>\n",
              "      <td>2</td>\n",
              "      <td>2</td>\n",
              "      <td>3381</td>\n",
              "      <td>1185</td>\n",
              "    </tr>\n",
              "    <tr>\n",
              "      <th>225</th>\n",
              "      <td>2</td>\n",
              "      <td>2</td>\n",
              "      <td>3716</td>\n",
              "      <td>1300</td>\n",
              "    </tr>\n",
              "    <tr>\n",
              "      <th>230</th>\n",
              "      <td>2</td>\n",
              "      <td>2</td>\n",
              "      <td>3685</td>\n",
              "      <td>1350</td>\n",
              "    </tr>\n",
              "    <tr>\n",
              "      <th>235</th>\n",
              "      <td>2</td>\n",
              "      <td>2</td>\n",
              "      <td>3352</td>\n",
              "      <td>1170</td>\n",
              "    </tr>\n",
              "  </tbody>\n",
              "</table>\n",
              "</div>\n",
              "    <div class=\"colab-df-buttons\">\n",
              "\n",
              "  <div class=\"colab-df-container\">\n",
              "    <button class=\"colab-df-convert\" onclick=\"convertToInteractive('df-23c9f691-b101-4a04-911e-68cb3ad93640')\"\n",
              "            title=\"Convert this dataframe to an interactive table.\"\n",
              "            style=\"display:none;\">\n",
              "\n",
              "  <svg xmlns=\"http://www.w3.org/2000/svg\" height=\"24px\" viewBox=\"0 -960 960 960\">\n",
              "    <path d=\"M120-120v-720h720v720H120Zm60-500h600v-160H180v160Zm220 220h160v-160H400v160Zm0 220h160v-160H400v160ZM180-400h160v-160H180v160Zm440 0h160v-160H620v160ZM180-180h160v-160H180v160Zm440 0h160v-160H620v160Z\"/>\n",
              "  </svg>\n",
              "    </button>\n",
              "\n",
              "  <style>\n",
              "    .colab-df-container {\n",
              "      display:flex;\n",
              "      gap: 12px;\n",
              "    }\n",
              "\n",
              "    .colab-df-convert {\n",
              "      background-color: #E8F0FE;\n",
              "      border: none;\n",
              "      border-radius: 50%;\n",
              "      cursor: pointer;\n",
              "      display: none;\n",
              "      fill: #1967D2;\n",
              "      height: 32px;\n",
              "      padding: 0 0 0 0;\n",
              "      width: 32px;\n",
              "    }\n",
              "\n",
              "    .colab-df-convert:hover {\n",
              "      background-color: #E2EBFA;\n",
              "      box-shadow: 0px 1px 2px rgba(60, 64, 67, 0.3), 0px 1px 3px 1px rgba(60, 64, 67, 0.15);\n",
              "      fill: #174EA6;\n",
              "    }\n",
              "\n",
              "    .colab-df-buttons div {\n",
              "      margin-bottom: 4px;\n",
              "    }\n",
              "\n",
              "    [theme=dark] .colab-df-convert {\n",
              "      background-color: #3B4455;\n",
              "      fill: #D2E3FC;\n",
              "    }\n",
              "\n",
              "    [theme=dark] .colab-df-convert:hover {\n",
              "      background-color: #434B5C;\n",
              "      box-shadow: 0px 1px 3px 1px rgba(0, 0, 0, 0.15);\n",
              "      filter: drop-shadow(0px 1px 2px rgba(0, 0, 0, 0.3));\n",
              "      fill: #FFFFFF;\n",
              "    }\n",
              "  </style>\n",
              "\n",
              "    <script>\n",
              "      const buttonEl =\n",
              "        document.querySelector('#df-23c9f691-b101-4a04-911e-68cb3ad93640 button.colab-df-convert');\n",
              "      buttonEl.style.display =\n",
              "        google.colab.kernel.accessAllowed ? 'block' : 'none';\n",
              "\n",
              "      async function convertToInteractive(key) {\n",
              "        const element = document.querySelector('#df-23c9f691-b101-4a04-911e-68cb3ad93640');\n",
              "        const dataTable =\n",
              "          await google.colab.kernel.invokeFunction('convertToInteractive',\n",
              "                                                    [key], {});\n",
              "        if (!dataTable) return;\n",
              "\n",
              "        const docLinkHtml = 'Like what you see? Visit the ' +\n",
              "          '<a target=\"_blank\" href=https://colab.research.google.com/notebooks/data_table.ipynb>data table notebook</a>'\n",
              "          + ' to learn more about interactive tables.';\n",
              "        element.innerHTML = '';\n",
              "        dataTable['output_type'] = 'display_data';\n",
              "        await google.colab.output.renderOutput(dataTable, element);\n",
              "        const docLink = document.createElement('div');\n",
              "        docLink.innerHTML = docLinkHtml;\n",
              "        element.appendChild(docLink);\n",
              "      }\n",
              "    </script>\n",
              "  </div>\n",
              "\n",
              "\n",
              "<div id=\"df-82855bc8-67de-42ef-b0be-cc7ac4a95173\">\n",
              "  <button class=\"colab-df-quickchart\" onclick=\"quickchart('df-82855bc8-67de-42ef-b0be-cc7ac4a95173')\"\n",
              "            title=\"Suggest charts\"\n",
              "            style=\"display:none;\">\n",
              "\n",
              "<svg xmlns=\"http://www.w3.org/2000/svg\" height=\"24px\"viewBox=\"0 0 24 24\"\n",
              "     width=\"24px\">\n",
              "    <g>\n",
              "        <path d=\"M19 3H5c-1.1 0-2 .9-2 2v14c0 1.1.9 2 2 2h14c1.1 0 2-.9 2-2V5c0-1.1-.9-2-2-2zM9 17H7v-7h2v7zm4 0h-2V7h2v10zm4 0h-2v-4h2v4z\"/>\n",
              "    </g>\n",
              "</svg>\n",
              "  </button>\n",
              "\n",
              "<style>\n",
              "  .colab-df-quickchart {\n",
              "      --bg-color: #E8F0FE;\n",
              "      --fill-color: #1967D2;\n",
              "      --hover-bg-color: #E2EBFA;\n",
              "      --hover-fill-color: #174EA6;\n",
              "      --disabled-fill-color: #AAA;\n",
              "      --disabled-bg-color: #DDD;\n",
              "  }\n",
              "\n",
              "  [theme=dark] .colab-df-quickchart {\n",
              "      --bg-color: #3B4455;\n",
              "      --fill-color: #D2E3FC;\n",
              "      --hover-bg-color: #434B5C;\n",
              "      --hover-fill-color: #FFFFFF;\n",
              "      --disabled-bg-color: #3B4455;\n",
              "      --disabled-fill-color: #666;\n",
              "  }\n",
              "\n",
              "  .colab-df-quickchart {\n",
              "    background-color: var(--bg-color);\n",
              "    border: none;\n",
              "    border-radius: 50%;\n",
              "    cursor: pointer;\n",
              "    display: none;\n",
              "    fill: var(--fill-color);\n",
              "    height: 32px;\n",
              "    padding: 0;\n",
              "    width: 32px;\n",
              "  }\n",
              "\n",
              "  .colab-df-quickchart:hover {\n",
              "    background-color: var(--hover-bg-color);\n",
              "    box-shadow: 0 1px 2px rgba(60, 64, 67, 0.3), 0 1px 3px 1px rgba(60, 64, 67, 0.15);\n",
              "    fill: var(--button-hover-fill-color);\n",
              "  }\n",
              "\n",
              "  .colab-df-quickchart-complete:disabled,\n",
              "  .colab-df-quickchart-complete:disabled:hover {\n",
              "    background-color: var(--disabled-bg-color);\n",
              "    fill: var(--disabled-fill-color);\n",
              "    box-shadow: none;\n",
              "  }\n",
              "\n",
              "  .colab-df-spinner {\n",
              "    border: 2px solid var(--fill-color);\n",
              "    border-color: transparent;\n",
              "    border-bottom-color: var(--fill-color);\n",
              "    animation:\n",
              "      spin 1s steps(1) infinite;\n",
              "  }\n",
              "\n",
              "  @keyframes spin {\n",
              "    0% {\n",
              "      border-color: transparent;\n",
              "      border-bottom-color: var(--fill-color);\n",
              "      border-left-color: var(--fill-color);\n",
              "    }\n",
              "    20% {\n",
              "      border-color: transparent;\n",
              "      border-left-color: var(--fill-color);\n",
              "      border-top-color: var(--fill-color);\n",
              "    }\n",
              "    30% {\n",
              "      border-color: transparent;\n",
              "      border-left-color: var(--fill-color);\n",
              "      border-top-color: var(--fill-color);\n",
              "      border-right-color: var(--fill-color);\n",
              "    }\n",
              "    40% {\n",
              "      border-color: transparent;\n",
              "      border-right-color: var(--fill-color);\n",
              "      border-top-color: var(--fill-color);\n",
              "    }\n",
              "    60% {\n",
              "      border-color: transparent;\n",
              "      border-right-color: var(--fill-color);\n",
              "    }\n",
              "    80% {\n",
              "      border-color: transparent;\n",
              "      border-right-color: var(--fill-color);\n",
              "      border-bottom-color: var(--fill-color);\n",
              "    }\n",
              "    90% {\n",
              "      border-color: transparent;\n",
              "      border-bottom-color: var(--fill-color);\n",
              "    }\n",
              "  }\n",
              "</style>\n",
              "\n",
              "  <script>\n",
              "    async function quickchart(key) {\n",
              "      const quickchartButtonEl =\n",
              "        document.querySelector('#' + key + ' button');\n",
              "      quickchartButtonEl.disabled = true;  // To prevent multiple clicks.\n",
              "      quickchartButtonEl.classList.add('colab-df-spinner');\n",
              "      try {\n",
              "        const charts = await google.colab.kernel.invokeFunction(\n",
              "            'suggestCharts', [key], {});\n",
              "      } catch (error) {\n",
              "        console.error('Error during call to suggestCharts:', error);\n",
              "      }\n",
              "      quickchartButtonEl.classList.remove('colab-df-spinner');\n",
              "      quickchartButtonEl.classList.add('colab-df-quickchart-complete');\n",
              "    }\n",
              "    (() => {\n",
              "      let quickchartButtonEl =\n",
              "        document.querySelector('#df-82855bc8-67de-42ef-b0be-cc7ac4a95173 button');\n",
              "      quickchartButtonEl.style.display =\n",
              "        google.colab.kernel.accessAllowed ? 'block' : 'none';\n",
              "    })();\n",
              "  </script>\n",
              "</div>\n",
              "\n",
              "    </div>\n",
              "  </div>\n"
            ],
            "application/vnd.google.colaboratory.intrinsic+json": {
              "type": "dataframe",
              "summary": "{\n  \"name\": \"data[::strd]\",\n  \"rows\": 48,\n  \"fields\": [\n    {\n      \"column\": \"Gender\",\n      \"properties\": {\n        \"dtype\": \"number\",\n        \"std\": 0,\n        \"min\": 1,\n        \"max\": 2,\n        \"num_unique_values\": 2,\n        \"samples\": [\n          2,\n          1\n        ],\n        \"semantic_type\": \"\",\n        \"description\": \"\"\n      }\n    },\n    {\n      \"column\": \"Age Range\",\n      \"properties\": {\n        \"dtype\": \"number\",\n        \"std\": 0,\n        \"min\": 1,\n        \"max\": 2,\n        \"num_unique_values\": 2,\n        \"samples\": [\n          2,\n          1\n        ],\n        \"semantic_type\": \"\",\n        \"description\": \"\"\n      }\n    },\n    {\n      \"column\": \"Head Size(cm^3)\",\n      \"properties\": {\n        \"dtype\": \"number\",\n        \"std\": 360,\n        \"min\": 2773,\n        \"max\": 4512,\n        \"num_unique_values\": 47,\n        \"samples\": [\n          3436,\n          2773\n        ],\n        \"semantic_type\": \"\",\n        \"description\": \"\"\n      }\n    },\n    {\n      \"column\": \"Brain Weight(grams)\",\n      \"properties\": {\n        \"dtype\": \"number\",\n        \"std\": 109,\n        \"min\": 1070,\n        \"max\": 1530,\n        \"num_unique_values\": 41,\n        \"samples\": [\n          1173,\n          1135\n        ],\n        \"semantic_type\": \"\",\n        \"description\": \"\"\n      }\n    }\n  ]\n}"
            }
          },
          "metadata": {},
          "execution_count": 3
        }
      ]
    },
    {
      "cell_type": "markdown",
      "metadata": {
        "id": "ji8p4EjFovIl"
      },
      "source": [
        "- t, b에 data의 column을 입력하고, plot을 하여 t와 b의 관계를 관찰합니다."
      ]
    },
    {
      "cell_type": "code",
      "metadata": {
        "colab": {
          "base_uri": "https://localhost:8080/",
          "height": 455
        },
        "id": "b9Qu3d5WiFZp",
        "outputId": "ed41578e-882e-47ce-a7b3-8f07ae899020"
      },
      "source": [
        "t = data.iloc[::strd,2]\n",
        "b = data.iloc[::strd,3]\n",
        "plt.scatter(t,b)\n",
        "plt.xlabel(data.columns[2])\n",
        "plt.ylabel(data.columns[3])\n",
        "plt.xlim([2500,5000])\n",
        "plt.ylim([800,1800])\n",
        "plt.grid(True)\n",
        "plt.show()"
      ],
      "execution_count": 4,
      "outputs": [
        {
          "output_type": "display_data",
          "data": {
            "text/plain": [
              "<Figure size 640x480 with 1 Axes>"
            ],
            "image/png": "[encoded data removed]"
          },
          "metadata": {}
        }
      ]
    },
    {
      "cell_type": "markdown",
      "metadata": {
        "id": "p8kDlpZ3o5nM"
      },
      "source": [
        "- b vector의 shape을 확인합니다."
      ]
    },
    {
      "cell_type": "code",
      "metadata": {
        "colab": {
          "base_uri": "https://localhost:8080/"
        },
        "id": "5bvycQ3UmTD4",
        "outputId": "27c98f96-a7b2-47d0-c026-4596775235a4"
      },
      "source": [
        "b=np.array(b)\n",
        "b=b.reshape((len(b),1))\n",
        "print(b.shape)"
      ],
      "execution_count": 5,
      "outputs": [
        {
          "output_type": "stream",
          "name": "stdout",
          "text": [
            "(48, 1)\n"
          ]
        }
      ]
    },
    {
      "cell_type": "markdown",
      "metadata": {
        "id": "TKmJ4BnEo-b2"
      },
      "source": [
        "- matrix A를 정의합니다. A의 첫 번째 column은 모두 1이 되게 하고, 두 번째 column은 t를 넣도록 합니다.\n",
        "- A의 shape을 확인해 봅니다."
      ]
    },
    {
      "cell_type": "code",
      "metadata": {
        "colab": {
          "base_uri": "https://localhost:8080/"
        },
        "id": "k3VON02tiJNS",
        "outputId": "0bad839a-bb18-4c00-e3f6-e5092b59e337"
      },
      "source": [
        "A = np.ones([len(b),2])\n",
        "A[:,1] = t\n",
        "print(A.shape)"
      ],
      "execution_count": 6,
      "outputs": [
        {
          "output_type": "stream",
          "name": "stdout",
          "text": [
            "(48, 2)\n"
          ]
        }
      ]
    },
    {
      "cell_type": "markdown",
      "metadata": {
        "id": "wXkZRlGWpXfX"
      },
      "source": [
        "- Matrix A가 제대로 구성되었는지 확인해봅니다."
      ]
    },
    {
      "cell_type": "code",
      "metadata": {
        "colab": {
          "base_uri": "https://localhost:8080/"
        },
        "id": "Lk66gHMRiP_0",
        "outputId": "efcbd23b-17aa-46bb-f4c9-6b9fbc0d60db"
      },
      "source": [
        "print('A=')\n",
        "print(A)"
      ],
      "execution_count": 7,
      "outputs": [
        {
          "output_type": "stream",
          "name": "stdout",
          "text": [
            "A=\n",
            "[[1.000e+00 4.512e+03]\n",
            " [1.000e+00 3.585e+03]\n",
            " [1.000e+00 3.443e+03]\n",
            " [1.000e+00 3.876e+03]\n",
            " [1.000e+00 3.878e+03]\n",
            " [1.000e+00 4.423e+03]\n",
            " [1.000e+00 3.787e+03]\n",
            " [1.000e+00 3.814e+03]\n",
            " [1.000e+00 3.962e+03]\n",
            " [1.000e+00 4.034e+03]\n",
            " [1.000e+00 3.891e+03]\n",
            " [1.000e+00 3.458e+03]\n",
            " [1.000e+00 3.866e+03]\n",
            " [1.000e+00 3.329e+03]\n",
            " [1.000e+00 4.008e+03]\n",
            " [1.000e+00 3.394e+03]\n",
            " [1.000e+00 3.830e+03]\n",
            " [1.000e+00 3.850e+03]\n",
            " [1.000e+00 4.160e+03]\n",
            " [1.000e+00 3.779e+03]\n",
            " [1.000e+00 3.495e+03]\n",
            " [1.000e+00 3.648e+03]\n",
            " [1.000e+00 3.695e+03]\n",
            " [1.000e+00 3.499e+03]\n",
            " [1.000e+00 3.399e+03]\n",
            " [1.000e+00 3.782e+03]\n",
            " [1.000e+00 3.666e+03]\n",
            " [1.000e+00 3.436e+03]\n",
            " [1.000e+00 3.572e+03]\n",
            " [1.000e+00 3.899e+03]\n",
            " [1.000e+00 3.413e+03]\n",
            " [1.000e+00 3.156e+03]\n",
            " [1.000e+00 3.071e+03]\n",
            " [1.000e+00 3.082e+03]\n",
            " [1.000e+00 3.145e+03]\n",
            " [1.000e+00 3.203e+03]\n",
            " [1.000e+00 3.689e+03]\n",
            " [1.000e+00 3.642e+03]\n",
            " [1.000e+00 3.165e+03]\n",
            " [1.000e+00 2.773e+03]\n",
            " [1.000e+00 3.360e+03]\n",
            " [1.000e+00 3.692e+03]\n",
            " [1.000e+00 2.937e+03]\n",
            " [1.000e+00 3.156e+03]\n",
            " [1.000e+00 3.381e+03]\n",
            " [1.000e+00 3.716e+03]\n",
            " [1.000e+00 3.685e+03]\n",
            " [1.000e+00 3.352e+03]]\n"
          ]
        }
      ]
    },
    {
      "cell_type": "markdown",
      "metadata": {
        "id": "P4b9fjl8pa4e"
      },
      "source": [
        "- Vector b가 제대로 구성되었는지 확인해 봅니다."
      ]
    },
    {
      "cell_type": "code",
      "metadata": {
        "colab": {
          "base_uri": "https://localhost:8080/"
        },
        "id": "a4a_3fK9iYGW",
        "outputId": "bddde0cc-5c23-4429-d7ee-3fc54ffb9435"
      },
      "source": [
        "print('b=')\n",
        "print(b)"
      ],
      "execution_count": 8,
      "outputs": [
        {
          "output_type": "stream",
          "name": "stdout",
          "text": [
            "b=\n",
            "[[1530]\n",
            " [1300]\n",
            " [1340]\n",
            " [1405]\n",
            " [1357]\n",
            " [1505]\n",
            " [1318]\n",
            " [1207]\n",
            " [1350]\n",
            " [1422]\n",
            " [1224]\n",
            " [1225]\n",
            " [1415]\n",
            " [1135]\n",
            " [1468]\n",
            " [1195]\n",
            " [1245]\n",
            " [1412]\n",
            " [1370]\n",
            " [1165]\n",
            " [1218]\n",
            " [1260]\n",
            " [1310]\n",
            " [1275]\n",
            " [1173]\n",
            " [1350]\n",
            " [1270]\n",
            " [1235]\n",
            " [1270]\n",
            " [1380]\n",
            " [1322]\n",
            " [1170]\n",
            " [1078]\n",
            " [1180]\n",
            " [1202]\n",
            " [1180]\n",
            " [1290]\n",
            " [1205]\n",
            " [1237]\n",
            " [1076]\n",
            " [1095]\n",
            " [1305]\n",
            " [1070]\n",
            " [1225]\n",
            " [1185]\n",
            " [1300]\n",
            " [1350]\n",
            " [1170]]\n"
          ]
        }
      ]
    },
    {
      "cell_type": "markdown",
      "metadata": {
        "id": "j_BdM2mEpes7"
      },
      "source": [
        "- matrix A의 transpose matrix를 계산합니다."
      ]
    },
    {
      "cell_type": "code",
      "metadata": {
        "colab": {
          "base_uri": "https://localhost:8080/"
        },
        "id": "MTaZYcgjilJT",
        "outputId": "6ea2a3f0-52b2-4d88-9e32-00765b06476c"
      },
      "source": [
        "AT = A.transpose()\n",
        "AT.shape"
      ],
      "execution_count": 9,
      "outputs": [
        {
          "output_type": "execute_result",
          "data": {
            "text/plain": [
              "(2, 48)"
            ]
          },
          "metadata": {},
          "execution_count": 9
        }
      ]
    },
    {
      "cell_type": "markdown",
      "metadata": {
        "id": "pIZfmE9opjxm"
      },
      "source": [
        "- matrix A의 transpose와 matrix A를 곱한 결과를 ATA로 정의합니다."
      ]
    },
    {
      "cell_type": "code",
      "metadata": {
        "colab": {
          "base_uri": "https://localhost:8080/"
        },
        "id": "7jhETsA0jYfN",
        "outputId": "a34eaecf-4ff9-4107-dbbf-50614056eaf4"
      },
      "source": [
        "ATA = np.matmul(AT,A)\n",
        "print('shape of ATA:',ATA.shape)\n",
        "print('ATA=')\n",
        "print(ATA)"
      ],
      "execution_count": 10,
      "outputs": [
        {
          "output_type": "stream",
          "name": "stdout",
          "text": [
            "shape of ATA: (2, 2)\n",
            "ATA=\n",
            "[[4.8000000e+01 1.7258800e+05]\n",
            " [1.7258800e+05 6.2664833e+08]]\n"
          ]
        }
      ]
    },
    {
      "cell_type": "markdown",
      "metadata": {
        "id": "NB6Uz2popr0T"
      },
      "source": [
        "- ATA의 inverse matrix를 구합니다."
      ]
    },
    {
      "cell_type": "code",
      "metadata": {
        "colab": {
          "base_uri": "https://localhost:8080/"
        },
        "id": "l1cFRp3CjqXv",
        "outputId": "460bc319-dbf7-42c5-f5e1-2f6c41102e87"
      },
      "source": [
        "ATA_inv = np.linalg.inv(ATA)\n",
        "print('ATA_inv=')\n",
        "print(ATA)"
      ],
      "execution_count": 11,
      "outputs": [
        {
          "output_type": "stream",
          "name": "stdout",
          "text": [
            "ATA_inv=\n",
            "[[4.8000000e+01 1.7258800e+05]\n",
            " [1.7258800e+05 6.2664833e+08]]\n"
          ]
        }
      ]
    },
    {
      "cell_type": "markdown",
      "metadata": {
        "id": "bSvjOuSPpu4z"
      },
      "source": [
        "- inverse matrix의 정의를 통하여 inverse matrix가 제대로 구하여졌는지 확인해 봅니다.\n",
        "- Nondiagonal element들이 정확히 0이 되지 않는 이유는?"
      ]
    },
    {
      "cell_type": "code",
      "metadata": {
        "colab": {
          "base_uri": "https://localhost:8080/"
        },
        "id": "ySEzyCM3j3B5",
        "outputId": "3ec61e40-a4c2-46fa-c761-b099393d6a6a"
      },
      "source": [
        "print(np.matmul(ATA,ATA_inv))"
      ],
      "execution_count": 12,
      "outputs": [
        {
          "output_type": "stream",
          "name": "stdout",
          "text": [
            "[[ 1.00000000e+00 -1.91323567e-18]\n",
            " [-3.04356644e-11  1.00000000e+00]]\n"
          ]
        }
      ]
    },
    {
      "cell_type": "code",
      "metadata": {
        "colab": {
          "base_uri": "https://localhost:8080/"
        },
        "id": "McyDtKjtj-Uy",
        "outputId": "ffe372e3-a365-4a6f-d676-df88962e3e3b"
      },
      "source": [
        "print(np.matmul(ATA_inv,ATA))"
      ],
      "execution_count": 13,
      "outputs": [
        {
          "output_type": "stream",
          "name": "stdout",
          "text": [
            "[[ 1.00000000e+00 -3.04356644e-11]\n",
            " [-1.91323567e-18  1.00000000e+00]]\n"
          ]
        }
      ]
    },
    {
      "cell_type": "markdown",
      "metadata": {
        "id": "2UH4y-bLp83Z"
      },
      "source": [
        "- least squares error를 최소로 만들어주는 x를 구합니다."
      ]
    },
    {
      "cell_type": "code",
      "metadata": {
        "colab": {
          "base_uri": "https://localhost:8080/"
        },
        "id": "E2psU_UTivjL",
        "outputId": "342e6ae4-685d-4c5b-d05c-81501608b148"
      },
      "source": [
        "x = np.matmul(ATA_inv, np.matmul(AT,b))\n",
        "print(x)"
      ],
      "execution_count": 14,
      "outputs": [
        {
          "output_type": "stream",
          "name": "stdout",
          "text": [
            "[[3.50801733e+02]\n",
            " [2.55698640e-01]]\n"
          ]
        }
      ]
    },
    {
      "cell_type": "markdown",
      "metadata": {
        "id": "S-WmnpoBqBh2"
      },
      "source": [
        "- b = C + Dt 의 C를 x로부터 얻어낼 수 있습니다."
      ]
    },
    {
      "cell_type": "code",
      "metadata": {
        "colab": {
          "base_uri": "https://localhost:8080/"
        },
        "id": "GCyltWiLi93s",
        "outputId": "0ef36800-05f4-4880-827b-1f9610ab74ca"
      },
      "source": [
        "C = x[0]\n",
        "D = x[1]\n",
        "print('C=',C)\n",
        "print('D=',D)"
      ],
      "execution_count": 15,
      "outputs": [
        {
          "output_type": "stream",
          "name": "stdout",
          "text": [
            "C= [350.80173343]\n",
            "D= [0.25569864]\n"
          ]
        }
      ]
    },
    {
      "cell_type": "markdown",
      "metadata": {
        "id": "z_0rnOdgqG07"
      },
      "source": [
        "- Projection vector p는 x에 A를 곱하여 얻을 수 있습니다.\n",
        "- Error vector는 b에서 p를 빼주어 구합니다."
      ]
    },
    {
      "cell_type": "code",
      "metadata": {
        "colab": {
          "base_uri": "https://localhost:8080/"
        },
        "id": "xRjKRLa9jCze",
        "outputId": "ccc9498e-0163-46d1-d972-93f0d508b384"
      },
      "source": [
        "p = np.matmul(A,x)\n",
        "e = b - p\n",
        "print(e)"
      ],
      "execution_count": 16,
      "outputs": [
        {
          "output_type": "stream",
          "name": "stdout",
          "text": [
            "[[  25.48600511]\n",
            " [  32.51864393]\n",
            " [ 108.82785074]\n",
            " [  63.11033984]\n",
            " [  14.59894256]\n",
            " [  23.24318403]\n",
            " [  -1.13248125]\n",
            " [-119.03634451]\n",
            " [ -13.87974316]\n",
            " [  39.7099548 ]\n",
            " [-121.72513975]\n",
            " [ -10.00762885]\n",
            " [  75.66732623]\n",
            " [ -67.02250435]\n",
            " [  92.35811942]\n",
            " [ -23.64291592]\n",
            " [ -85.12752274]\n",
            " [  76.75850447]\n",
            " [ -44.50807378]\n",
            " [-152.08689213]\n",
            " [ -26.46847851]\n",
            " [ -23.59037035]\n",
            " [  14.39179359]\n",
            " [  29.50872693]\n",
            " [ -46.92140912]\n",
            " [  32.14601195]\n",
            " [ -18.19294587]\n",
            " [   5.61774122]\n",
            " [   5.84272625]\n",
            " [  32.22927113]\n",
            " [  98.49880993]\n",
            " [  12.21336028]\n",
            " [ -58.05225536]\n",
            " [  41.13505961]\n",
            " [  47.02604532]\n",
            " [  10.19552423]\n",
            " [  -4.07401457]\n",
            " [ -77.05617852]\n",
            " [  76.91207253]\n",
            " [  16.14593921]\n",
            " [-114.94916218]\n",
            " [  10.15888951]\n",
            " [ -31.78863767]\n",
            " [  67.21336028]\n",
            " [ -30.31883361]\n",
            " [  -0.97787784]\n",
            " [  56.94877998]\n",
            " [ -37.90357306]]\n"
          ]
        }
      ]
    },
    {
      "cell_type": "markdown",
      "metadata": {
        "id": "TrmxFlhdqRsM"
      },
      "source": [
        "- Projection vector를 plot하여 data를 잘 표현하는 1차함수가 만들어졌는지 확인해봅니다."
      ]
    },
    {
      "cell_type": "code",
      "metadata": {
        "colab": {
          "base_uri": "https://localhost:8080/",
          "height": 455
        },
        "id": "xXpCLRwhknpw",
        "outputId": "c2233d2f-c2a9-4065-ce89-fd65d287d34c"
      },
      "source": [
        "plt.scatter(t,b)\n",
        "plt.scatter(t,p)\n",
        "plt.xlabel(data.columns[2])\n",
        "plt.ylabel(data.columns[3])\n",
        "plt.xlim([2500,5000])\n",
        "plt.ylim([800,1800])\n",
        "plt.grid(True)\n",
        "plt.legend(['data','projection'])\n",
        "plt.show()"
      ],
      "execution_count": 17,
      "outputs": [
        {
          "output_type": "display_data",
          "data": {
            "text/plain": [
              "<Figure size 640x480 with 1 Axes>"
            ],
            "image/png": "[encoded data removed]"
          },
          "metadata": {}
        }
      ]
    },
    {
      "cell_type": "markdown",
      "metadata": {
        "id": "qo59KwEgqZfC"
      },
      "source": [
        "- Error vector를 plot하여 각각의 data에 대한 error의 정도를 확인해 볼 수 있습니다."
      ]
    },
    {
      "cell_type": "code",
      "metadata": {
        "colab": {
          "base_uri": "https://localhost:8080/",
          "height": 449
        },
        "id": "D-bw4izUlUis",
        "outputId": "827035ca-229d-432b-fb78-839d8a6ad65b"
      },
      "source": [
        "plt.scatter(t,e)\n",
        "plt.xlabel(data.columns[2])\n",
        "plt.ylabel('error (grams)')\n",
        "plt.xlim([2500,5000])\n",
        "plt.ylim([-500,500])\n",
        "plt.grid(True)\n",
        "plt.show()"
      ],
      "execution_count": 18,
      "outputs": [
        {
          "output_type": "display_data",
          "data": {
            "text/plain": [
              "<Figure size 640x480 with 1 Axes>"
            ],
            "image/png": "[encoded data removed]"
          },
          "metadata": {}
        }
      ]
    },
    {
      "cell_type": "markdown",
      "metadata": {
        "id": "tmP_ouXHndDR"
      },
      "source": [
        "- 지금까지의 과정을 numpy에서 제공하는 lstsq함수를 이용해 한 번에 구해볼 수도 있습니다."
      ]
    },
    {
      "cell_type": "code",
      "metadata": {
        "colab": {
          "base_uri": "https://localhost:8080/"
        },
        "id": "5l_rxKVOnAZV",
        "outputId": "b5be3de0-3fbe-4ba4-97e7-806de33d145b"
      },
      "source": [
        "x =np.linalg.lstsq(A,b) # least squares solution\n",
        "C = x[0][0]\n",
        "D = x[0][1]\n",
        "print('C=',C)\n",
        "print('D=',D)"
      ],
      "execution_count": 19,
      "outputs": [
        {
          "output_type": "stream",
          "name": "stdout",
          "text": [
            "C= [350.80173343]\n",
            "D= [0.25569864]\n"
          ]
        },
        {
          "output_type": "stream",
          "name": "stderr",
          "text": [
            "<ipython-input-19-a5f2c1e8afed>:1: FutureWarning: `rcond` parameter will change to the default of machine precision times ``max(M, N)`` where M and N are the input matrix dimensions.\n",
            "To use the future default and silence this warning we advise to pass `rcond=None`, to keep using the old, explicitly pass `rcond=-1`.\n",
            "  x =np.linalg.lstsq(A,b) # least squares solution\n"
          ]
        }
      ]
    },
    {
      "cell_type": "code",
      "source": [],
      "metadata": {
        "id": "nZ9Sut62m7Cq"
      },
      "execution_count": 19,
      "outputs": []
    }
  ]
}