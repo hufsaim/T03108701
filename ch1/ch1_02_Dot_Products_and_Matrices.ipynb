{
  "cells": [
    {
      "cell_type": "markdown",
      "metadata": {
        "colab_type": "text",
        "id": "-K3ytRspwc5u"
      },
      "source": [
        "# 1.2. Lengths and Dot Products\n",
        "- Python의 numpy, matplotlib를 이용하여 vector의 dot product를 계산하고 시각화하는 연습을 합니다."
      ]
    },
    {
      "cell_type": "code",
      "execution_count": null,
      "metadata": {
        "colab": {},
        "colab_type": "code",
        "id": "y63sqZDCq9vT"
      },
      "outputs": [],
      "source": [
        "import numpy as np\n",
        "import matplotlib.pyplot as plt"
      ]
    },
    {
      "cell_type": "markdown",
      "metadata": {
        "colab_type": "text",
        "id": "SDnNVNcnw-On"
      },
      "source": [
        "- dot product를 계산하기 전에 numpy에서 cosine과 sine 함수를 먼저 살펴보도록 하겠습니다.\n",
        "- np.arange는 배열을 생성합니다."
      ]
    },
    {
      "cell_type": "code",
      "execution_count": 2,
      "metadata": {
        "colab": {
          "base_uri": "https://localhost:8080/",
          "height": 51
        },
        "colab_type": "code",
        "id": "tFvHd3AeR8_T",
        "outputId": "def9882e-f63b-4d5d-b1b4-e78dda425b22"
      },
      "outputs": [
        {
          "name": "stdout",
          "output_type": "stream",
          "text": [
            "a =  [  0  30  60  90 120 150]\n",
            "a_rad =  [0.         0.52359878 1.04719755 1.57079633 2.0943951  2.61799388]\n"
          ]
        }
      ],
      "source": [
        "a = np.arange(0,180,30)\n",
        "print('a = ',a)\n",
        "a_rad = a * (np.pi) *(1/180)\n",
        "print('a_rad = ',a_rad)"
      ]
    },
    {
      "cell_type": "markdown",
      "metadata": {
        "colab_type": "text",
        "id": "yXBW3Z9-UHAF"
      },
      "source": [
        "cos함수와 sin함수를 plot하여 radian 배열을 제대로 생성하였는지 확인해 봅시다."
      ]
    },
    {
      "cell_type": "code",
      "execution_count": 3,
      "metadata": {
        "colab": {
          "base_uri": "https://localhost:8080/",
          "height": 135
        },
        "colab_type": "code",
        "id": "6z2-pzjmUFVw",
        "outputId": "1a78c915-9950-4561-8db3-a39d053bb6f6"
      },
      "outputs": [
        {
          "data": {
            "image/png": "[encoded data removed]",
            "text/plain": [
              "<Figure size 504x504 with 1 Axes>"
            ]
          },
          "metadata": {
            "tags": []
          },
          "output_type": "display_data"
        }
      ],
      "source": [
        "a_rad = np.arange(-360,360,1) * (np.pi) *(1/180)\n",
        "plt.rcParams[\"figure.figsize\"]=(7,7)\n",
        "plt.rcParams.update({'font.size':14})\n",
        "plt.figure()\n",
        "ax=plt.gca()\n",
        "ax.set_aspect('equal')\n",
        "ax.plot(a_rad,np.cos(a_rad))\n",
        "ax.plot(a_rad,np.sin(a_rad))\n",
        "ax.set_xlabel('rad')\n",
        "ax.set_ylabel('cos, sin')\n",
        "ax.grid('both')"
      ]
    },
    {
      "cell_type": "markdown",
      "metadata": {
        "colab_type": "text",
        "id": "Bc05oXR9X1i7"
      },
      "source": [
        "- cos과 sin을 이용하여 간단히 원을 그려보겠습니다."
      ]
    },
    {
      "cell_type": "code",
      "execution_count": 4,
      "metadata": {
        "colab": {
          "base_uri": "https://localhost:8080/",
          "height": 450
        },
        "colab_type": "code",
        "id": "l_iBJ9DVVrkH",
        "outputId": "7ac80bb6-9bbc-464a-b769-24f8f64c923a"
      },
      "outputs": [
        {
          "data": {
            "image/png": "[encoded data removed]",
            "text/plain": [
              "<Figure size 504x504 with 1 Axes>"
            ]
          },
          "metadata": {
            "tags": []
          },
          "output_type": "display_data"
        }
      ],
      "source": [
        "a_rad = np.arange(0,360,10) * (np.pi) *(1/180)\n",
        "\n",
        "plt.figure()\n",
        "ax=plt.gca()\n",
        "ax.set_aspect('equal')\n",
        "for n in a_rad:\n",
        "  #ax.quiver(0,0,np.cos(n),np.sin(n),angles='xy',scale_units='xy',scale=1,color='g')\n",
        "  ax.scatter(np.cos(n),np.sin(n),s=20,color='g')\n",
        "\n",
        "ax.set_xlabel('rad')\n",
        "ax.set_ylabel('cos, sin')\n",
        "ax.set_xlim([-1.2,1.2])\n",
        "ax.set_ylim([-1.2,1.2])\n",
        "ax.grid('both')"
      ]
    },
    {
      "cell_type": "markdown",
      "metadata": {
        "colab_type": "text",
        "id": "4IDs4iVUZOSC"
      },
      "source": [
        "- 이제 dot product를 살펴보겠습니다. \n",
        "- numpy에서 .dot이라는 함수를 이용하여 두 vector의 dot product를 간단하게 계산할 수 있습니다."
      ]
    },
    {
      "cell_type": "code",
      "execution_count": 5,
      "metadata": {
        "colab": {
          "base_uri": "https://localhost:8080/",
          "height": 51
        },
        "colab_type": "code",
        "id": "ZKJ-UVcarDwX",
        "outputId": "3981af84-b96a-4f7f-fec8-37a265ef4a6e"
      },
      "outputs": [
        {
          "name": "stdout",
          "output_type": "stream",
          "text": [
            "v = [1 2] w = [4 5]\n",
            "dot product of v and w =  14\n"
          ]
        }
      ],
      "source": [
        "v = np.transpose(np.array([1,2]))\n",
        "w = np.transpose(np.array([4,5]))\n",
        "print('v =',v,'w =',w)\n",
        "\n",
        "print('dot product of v and w = ',np.dot(v,w) )"
      ]
    },
    {
      "cell_type": "markdown",
      "metadata": {
        "colab_type": "text",
        "id": "pN3eeTm70mxT"
      },
      "source": [
        "- 두 vector를 공간상에 표현해보겠습니다."
      ]
    },
    {
      "cell_type": "code",
      "execution_count": 6,
      "metadata": {
        "colab": {
          "base_uri": "https://localhost:8080/",
          "height": 456
        },
        "colab_type": "code",
        "id": "A_N1cfqlt5x1",
        "outputId": "db1f083b-53fb-485c-9739-663de89723d0"
      },
      "outputs": [
        {
          "data": {
            "image/png": "[encoded data removed]",
            "text/plain": [
              "<Figure size 504x504 with 1 Axes>"
            ]
          },
          "metadata": {
            "tags": []
          },
          "output_type": "display_data"
        }
      ],
      "source": [
        "plt.figure()\n",
        "ax=plt.gca()\n",
        "ax.set_aspect('equal')\n",
        "ax.quiver(0,0,v[0],v[1],angles='xy',scale_units='xy',scale=1,color='r')\n",
        "ax.quiver(0,0,w[0],w[1],angles='xy',scale_units='xy',scale=1,color='g')\n",
        "ax.set_xlim([-1,6])\n",
        "ax.set_ylim([-1,6])\n",
        "ax.set_xlabel('x')\n",
        "ax.set_ylabel('y')\n",
        "ax.grid('both')\n"
      ]
    },
    {
      "cell_type": "markdown",
      "metadata": {
        "colab_type": "text",
        "id": "E_1C6m2HZYOx"
      },
      "source": [
        "- 다음의 두 벡터는 특수한 경우입니다. \n",
        "- 두 벡터의 dot product가 0이 되는 경우입니다."
      ]
    },
    {
      "cell_type": "code",
      "execution_count": 7,
      "metadata": {
        "colab": {
          "base_uri": "https://localhost:8080/",
          "height": 51
        },
        "colab_type": "code",
        "id": "JhLCvfK8O6RO",
        "outputId": "a902813a-e133-4102-d3b0-6279bad017e2"
      },
      "outputs": [
        {
          "name": "stdout",
          "output_type": "stream",
          "text": [
            "v = [1 4] w = [ 8 -2]\n",
            "dot product of v and w =  0\n"
          ]
        }
      ],
      "source": [
        "v = np.transpose(np.array([1,4]))\n",
        "w = np.transpose(np.array([8,-2]))\n",
        "print('v =',v,'w =',w)\n",
        "print('dot product of v and w = ',np.dot(v,w) )"
      ]
    },
    {
      "cell_type": "markdown",
      "metadata": {
        "colab_type": "text",
        "id": "zyiKklHq0r8c"
      },
      "source": [
        "- 두 vector의 합을 공간 상에 표현해 보겠습니다."
      ]
    },
    {
      "cell_type": "code",
      "execution_count": 8,
      "metadata": {
        "colab": {
          "base_uri": "https://localhost:8080/",
          "height": 450
        },
        "colab_type": "code",
        "id": "pQT9qFh80EFr",
        "outputId": "12c8922d-4277-452d-af06-223438ff041b"
      },
      "outputs": [
        {
          "data": {
            "image/png": "[encoded data removed]",
            "text/plain": [
              "<Figure size 504x504 with 1 Axes>"
            ]
          },
          "metadata": {
            "tags": []
          },
          "output_type": "display_data"
        }
      ],
      "source": [
        "plt.figure()\n",
        "ax=plt.gca()\n",
        "ax.set_aspect('equal')\n",
        "ax.quiver(0,0,v[0],v[1],angles='xy',scale_units='xy',scale=1,color='r')\n",
        "ax.quiver(0,0,w[0],w[1],angles='xy',scale_units='xy',scale=1,color='g')\n",
        "ax.set_xlim([-1,9])\n",
        "ax.set_ylim([-3,9])\n",
        "ax.set_xlabel('x')\n",
        "ax.set_ylabel('y')\n",
        "ax.grid('both')"
      ]
    },
    {
      "cell_type": "markdown",
      "metadata": {
        "colab_type": "text",
        "id": "mnIoy4rHZez_"
      },
      "source": [
        "- numpy는 linear algebra와 관련된 함수들을 linalg에 모아 놓고 있습니다. \n",
        "- linalg를 간단히 LA로 불러오겠습니다. \n",
        "- linalg가 포함하고 있는 linear algebra관련 함수들은 아래의 사이트에서 자세히 볼 수 있습니다.\n",
        "- https://docs.scipy.org/doc/numpy/reference/routines.linalg.html"
      ]
    },
    {
      "cell_type": "code",
      "execution_count": null,
      "metadata": {
        "colab": {},
        "colab_type": "code",
        "id": "1RwiWQGYQyUD"
      },
      "outputs": [],
      "source": [
        "from numpy import linalg as LA"
      ]
    },
    {
      "cell_type": "markdown",
      "metadata": {
        "colab_type": "text",
        "id": "mT3LTPfzZ3Ew"
      },
      "source": [
        "- vector의 length는 .norm(vector)로 계산할 수 있습니다. \n",
        "- vector의 length는 2-norm이고, .norm의 default는 2-norm을 계산합니다. \n",
        "- norm에 대해서는 이후에 더 자세하게 다룰 것입니다. "
      ]
    },
    {
      "cell_type": "code",
      "execution_count": 10,
      "metadata": {
        "colab": {
          "base_uri": "https://localhost:8080/",
          "height": 68
        },
        "colab_type": "code",
        "id": "a0tzMfEmQ7sh",
        "outputId": "6a516525-b4a1-4469-faa3-38933ef9c40c"
      },
      "outputs": [
        {
          "name": "stdout",
          "output_type": "stream",
          "text": [
            "norm of v =  5.0\n",
            "v/||v|| = [0.6 0.8]\n",
            "norm of v/||v|| =  1.0\n"
          ]
        }
      ],
      "source": [
        "v=np.array([3.,4.])\n",
        "print('norm of v = ',LA.norm(v))\n",
        "u=v/(LA.norm(v))\n",
        "print('v/||v|| =',u)\n",
        "print('norm of v/||v|| = ',LA.norm(u))"
      ]
    },
    {
      "cell_type": "markdown",
      "metadata": {
        "colab_type": "text",
        "id": "0R1SM1ypbCsQ"
      },
      "source": [
        "- vector v를 v의 length로 나눈 새로운 vector u의 length를 그림으로 확인해 보겠습니다."
      ]
    },
    {
      "cell_type": "code",
      "execution_count": 11,
      "metadata": {
        "colab": {
          "base_uri": "https://localhost:8080/",
          "height": 473
        },
        "colab_type": "code",
        "id": "6lj0oYAO01V_",
        "outputId": "3e8f669e-45cb-4653-c72b-d0e76030a3a2"
      },
      "outputs": [
        {
          "name": "stdout",
          "output_type": "stream",
          "text": [
            "v = [3. 4.]\n"
          ]
        },
        {
          "data": {
            "image/png": "[encoded data removed]",
            "text/plain": [
              "<Figure size 504x504 with 1 Axes>"
            ]
          },
          "metadata": {
            "tags": []
          },
          "output_type": "display_data"
        }
      ],
      "source": [
        "print('v =',v)\n",
        "plt.figure()\n",
        "ax=plt.gca()\n",
        "ax.set_aspect('equal')\n",
        "ax.quiver(0,0,v[0],v[1],angles='xy',scale_units='xy',scale=1,color='r')\n",
        "ax.quiver(0,0,u[0],u[1],angles='xy',scale_units='xy',scale=1,color='g')\n",
        "\n",
        "ax.set_xlim([-1,5])\n",
        "ax.set_ylim([-1,5])\n",
        "ax.set_xlabel('x')\n",
        "ax.set_ylabel('y')\n",
        "ax.grid('both')"
      ]
    },
    {
      "cell_type": "markdown",
      "metadata": {
        "colab_type": "text",
        "id": "EF_SjO1TbKeZ"
      },
      "source": [
        "- 실제 length가 1이 맞는 지 cos, sin을 이용하여 unit circle을 그려 확인해 봅시다."
      ]
    },
    {
      "cell_type": "code",
      "execution_count": 12,
      "metadata": {
        "colab": {
          "base_uri": "https://localhost:8080/",
          "height": 456
        },
        "colab_type": "code",
        "id": "5Q20H1NkQiXQ",
        "outputId": "d2eb35ef-be18-4add-c9b2-1023b98fd133"
      },
      "outputs": [
        {
          "data": {
            "image/png": "[encoded data removed]",
            "text/plain": [
              "<Figure size 504x504 with 1 Axes>"
            ]
          },
          "metadata": {
            "tags": []
          },
          "output_type": "display_data"
        }
      ],
      "source": [
        "a_rad = np.arange(0,360,10) * (np.pi) *(1/180)\n",
        "\n",
        "plt.figure()\n",
        "ax=plt.gca()\n",
        "ax.set_aspect('equal')\n",
        "\n",
        "for n in a_rad:\n",
        "  ax.scatter(np.cos(n),np.sin(n),s=5,color='b')\n",
        "\n",
        "ax.quiver(0,0,v[0],v[1],angles='xy',scale_units='xy',scale=1,color='r')\n",
        "ax.quiver(0,0,u[0],u[1],angles='xy',scale_units='xy',scale=1,color='g')\n",
        "\n",
        "ax.set_xlim([-1,5])\n",
        "ax.set_ylim([-1,5])\n",
        "ax.set_xlabel('x')\n",
        "ax.set_ylabel('y')\n",
        "ax.grid('both')\n"
      ]
    },
    {
      "cell_type": "markdown",
      "metadata": {
        "colab_type": "text",
        "id": "3xzCgV102Ahx"
      },
      "source": [
        "# 1.3. Matrices"
      ]
    },
    {
      "cell_type": "markdown",
      "metadata": {
        "colab_type": "text",
        "id": "DIdXDxWAcCcv"
      },
      "source": [
        "- matrix를 numpy로 표현하는 방법은 np.array, np.matrix가 있으나 np.array를 사용하기를 권장합니다. \n",
        "- np.matrix는 조만간 numpy에서 삭제될 예정이라고 합니다."
      ]
    },
    {
      "cell_type": "code",
      "execution_count": 13,
      "metadata": {
        "colab": {
          "base_uri": "https://localhost:8080/",
          "height": 85
        },
        "colab_type": "code",
        "id": "DRPzxEoKswQY",
        "outputId": "36ab7002-8f22-430e-fe9d-394ead446798"
      },
      "outputs": [
        {
          "name": "stdout",
          "output_type": "stream",
          "text": [
            "a1 =  [[1 2]\n",
            " [3 4]]\n",
            "a2 =  [[1 2]\n",
            " [3 4]]\n"
          ]
        }
      ],
      "source": [
        "a1 = np.array([[1,2],[3,4]])\n",
        "print('a1 = ',a1)\n",
        "\n",
        "a2 = np.matrix('1 2;3 4')\n",
        "print('a2 = ',a2)"
      ]
    },
    {
      "cell_type": "markdown",
      "metadata": {
        "colab_type": "text",
        "id": "e5khLFv4-CJ4"
      },
      "source": [
        "- 2 x 2 matrix A를 정의하고, A의 size를 .shape를 통해 확인합니다."
      ]
    },
    {
      "cell_type": "code",
      "execution_count": 14,
      "metadata": {
        "colab": {
          "base_uri": "https://localhost:8080/",
          "height": 85
        },
        "colab_type": "code",
        "id": "mp8SRV1A2IWj",
        "outputId": "b48641c4-bab7-410b-b188-1e5d4a041d37"
      },
      "outputs": [
        {
          "name": "stdout",
          "output_type": "stream",
          "text": [
            "A = \n",
            " [[1 2]\n",
            " [3 4]]\n",
            "size of A =  (2, 2)\n"
          ]
        }
      ],
      "source": [
        "A =np.array([[1,2],[3,4]])\n",
        "print('A = \\n',A)\n",
        "print('size of A = ',A.shape)"
      ]
    },
    {
      "cell_type": "markdown",
      "metadata": {
        "colab_type": "text",
        "id": "SRlxKbUc-Zh8"
      },
      "source": [
        "- matrix A와 vector x를 곱은 .matmul을 이용하여 수행합니다. \n",
        "- matmul은 matrix multiplication을 나타냅니다."
      ]
    },
    {
      "cell_type": "code",
      "execution_count": 15,
      "metadata": {
        "colab": {
          "base_uri": "https://localhost:8080/",
          "height": 68
        },
        "colab_type": "code",
        "id": "_NEeKJNh4tK_",
        "outputId": "362ce900-8420-44f1-bdf5-09e74dedf2e6"
      },
      "outputs": [
        {
          "name": "stdout",
          "output_type": "stream",
          "text": [
            "Ax = \n",
            " [[23]\n",
            " [53]]\n"
          ]
        }
      ],
      "source": [
        "A =np.array([[1,2],[3,4]])\n",
        "x = np.array([[7],[8]])\n",
        "\n",
        "print('Ax = \\n',np.matmul(A,x))\n"
      ]
    },
    {
      "cell_type": "markdown",
      "metadata": {
        "colab_type": "text",
        "id": "RttbygxL-dqe"
      },
      "source": [
        "- matrix A는 column vector 2개로 나누어 생각해 볼 수 있습니다. \n",
        "- 각각의 column vector의 linear combination으로 새로운 vector를 만들어 낼 수 있습니다. \n",
        "- Ax = b 를 이런 관점으로 해석하면 b라는 vector를 만들어 낼 수 있는 number x1, x2를 찾는 문제로 볼 수 있습니다."
      ]
    },
    {
      "cell_type": "code",
      "execution_count": 16,
      "metadata": {
        "colab": {
          "base_uri": "https://localhost:8080/",
          "height": 473
        },
        "colab_type": "code",
        "id": "hu1-DfSL6VgS",
        "outputId": "badbcdd1-d542-4399-f97e-bf5a742ad5e2"
      },
      "outputs": [
        {
          "name": "stdout",
          "output_type": "stream",
          "text": [
            "v =  [1 3] w =  [2 4]\n"
          ]
        },
        {
          "data": {
            "image/png": "[encoded data removed]",
            "text/plain": [
              "<Figure size 504x504 with 1 Axes>"
            ]
          },
          "metadata": {
            "tags": []
          },
          "output_type": "display_data"
        }
      ],
      "source": [
        "print('v = ',A[:,0],'w = ',A[:,1])\n",
        "\n",
        "fig=plt.figure()\n",
        "ax=fig.gca()\n",
        "\n",
        "ax.quiver(0,0,A[0,0],A[1,0],angles='xy',scale_units='xy',scale=1,color='r')\n",
        "ax.quiver(0,0,A[0,1],A[1,1],angles='xy',scale_units='xy',scale=1,color='g')\n",
        "\n",
        "ax.set_xlim([0,5])\n",
        "ax.set_ylim([0,5])\n",
        "ax.set_xlabel('x')\n",
        "ax.set_ylabel('y')\n",
        "ax.grid('both')"
      ]
    },
    {
      "cell_type": "markdown",
      "metadata": {
        "colab_type": "text",
        "id": "1w74-UHogw50"
      },
      "source": [
        "- 좀 더 큰 matrix를 생성해보고, matrix의 특정 row, column을 출력하는 연습을 해봅시다. \n",
        "- 음수로 인덱싱을 하는 것과, :을 활용하는 방법을 연습합시다."
      ]
    },
    {
      "cell_type": "code",
      "execution_count": 17,
      "metadata": {
        "colab": {
          "base_uri": "https://localhost:8080/",
          "height": 153
        },
        "colab_type": "code",
        "id": "yIO-HNiHg3ST",
        "outputId": "036423aa-e7c3-4195-aaa5-1e7c75eeb338"
      },
      "outputs": [
        {
          "name": "stdout",
          "output_type": "stream",
          "text": [
            "B =  [[ 1  2  3  4]\n",
            " [ 5  6  7  8]\n",
            " [ 9 10 11 12]]\n",
            "B[:,1] =  [ 2  6 10]\n",
            "B[0,:] =  [1 2 3 4]\n",
            "B[0:2,0] =  [1 5]\n",
            "B[-1,:] =  [ 9 10 11 12]\n",
            "B[1,-2] =  7\n"
          ]
        }
      ],
      "source": [
        "B = np.array([[1,2,3,4],[5,6,7,8],[9,10,11,12]])\n",
        "print('B = ',B)\n",
        "\n",
        "print('B[:,1] = ', B[:,1])\n",
        "\n",
        "print('B[0,:] = ', B[0,:])\n",
        "\n",
        "print('B[0:2,0] = ',B[0:2,0])\n",
        "\n",
        "print('B[-1,:] = ',B[-1,:])\n",
        "\n",
        "print('B[1,-2] = ',B[1,-2])"
      ]
    },
    {
      "cell_type": "code",
      "execution_count": 18,
      "metadata": {
        "colab": {
          "base_uri": "https://localhost:8080/",
          "height": 85
        },
        "colab_type": "code",
        "id": "AB8A3On0hv3R",
        "outputId": "f788717a-2242-4b37-b7e8-e75a8e6b0fe3"
      },
      "outputs": [
        {
          "name": "stdout",
          "output_type": "stream",
          "text": [
            "a =  [ 0  1  2  3  4  5  6  7  8  9 10 11]\n",
            "a[2:7] =  [2 3 4 5 6]\n",
            "a[2::3] =  [ 2  5  8 11]\n",
            "a[-7:-2] =  [5 6 7 8 9]\n"
          ]
        }
      ],
      "source": [
        "a = np.arange(12)\n",
        "print('a = ',a)\n",
        "print('a[2:7] = ',a[2:7])\n",
        "print('a[2::3] = ',a[2::3])\n",
        "print('a[-7:-2] = ',a[-7:-2])"
      ]
    }
  ],
  "metadata": {
    "colab": {
      "collapsed_sections": [],
      "name": "ch1_02_Dot Products and Matrices.ipynb",
      "provenance": []
    },
    "kernelspec": {
      "display_name": "Python 3",
      "name": "python3"
    }
  },
  "nbformat": 4,
  "nbformat_minor": 0
}
